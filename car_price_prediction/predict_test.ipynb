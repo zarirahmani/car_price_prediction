{
 "cells": [
  {
   "cell_type": "code",
   "execution_count": 1,
   "id": "a9341014",
   "metadata": {},
   "outputs": [
    {
     "data": {
      "application/javascript": "IPython.notebook.set_autosave_interval(0)"
     },
     "metadata": {},
     "output_type": "display_data"
    },
    {
     "name": "stdout",
     "output_type": "stream",
     "text": [
      "Autosave disabled\n"
     ]
    }
   ],
   "source": [
    "%autosave 0 "
   ]
  },
  {
   "cell_type": "code",
   "execution_count": 3,
   "id": "c113748b",
   "metadata": {},
   "outputs": [],
   "source": [
    "import requests"
   ]
  },
  {
   "cell_type": "code",
   "execution_count": 5,
   "id": "3e265947",
   "metadata": {},
   "outputs": [],
   "source": [
    "url = 'http://localhost:9696/predict'"
   ]
  },
  {
   "cell_type": "code",
   "execution_count": 6,
   "id": "c8820494",
   "metadata": {},
   "outputs": [],
   "source": [
    "car = {\n",
    "    \"engine_hp\": 300,\n",
    "    \"engine_cylinders\": 4,\n",
    "    \"highway_mpg\": 30,\n",
    "    \"city_mpg\": 22,\n",
    "    \"popularity\": 2300,\n",
    "    \"year\": 2017,\n",
    "    \"number_of_doors\": 2,\n",
    "    \"make\": \"ford\",\n",
    "    \"engine_fuel_type\": \"regular_unleaded\",\n",
    "    \"transmission_type\": \"automatic\",\n",
    "    \"driven_wheels\": \"front_wheel_drive\",\n",
    "    \"market_category\": \"crossover\",\n",
    "    \"vehicle_size\": \"midsize\",\n",
    "    \"vehicle_style\": \"wagon\"\n",
    "}"
   ]
  },
  {
   "cell_type": "code",
   "execution_count": 9,
   "id": "43883bb4",
   "metadata": {},
   "outputs": [
    {
     "name": "stdout",
     "output_type": "stream",
     "text": [
      "{'predicted_price': 34702.830778502226}\n"
     ]
    }
   ],
   "source": [
    "price = requests.post(url, json = car)\n",
    "print(price.json())\n",
    "# A response [200] means the Flask prediction service received the POST request and responded successfully."
   ]
  },
  {
   "cell_type": "code",
   "execution_count": null,
   "id": "11918332",
   "metadata": {},
   "outputs": [],
   "source": []
  }
 ],
 "metadata": {
  "kernelspec": {
   "display_name": "venv",
   "language": "python",
   "name": "python3"
  },
  "language_info": {
   "codemirror_mode": {
    "name": "ipython",
    "version": 3
   },
   "file_extension": ".py",
   "mimetype": "text/x-python",
   "name": "python",
   "nbconvert_exporter": "python",
   "pygments_lexer": "ipython3",
   "version": "3.12.1"
  }
 },
 "nbformat": 4,
 "nbformat_minor": 5
}
