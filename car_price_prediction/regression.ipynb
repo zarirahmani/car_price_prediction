{
 "cells": [
  {
   "cell_type": "markdown",
   "id": "2f04fca2",
   "metadata": {},
   "source": [
    "# Regression"
   ]
  },
  {
   "cell_type": "markdown",
   "id": "58911803",
   "metadata": {},
   "source": [
    "Regression or value estimation  attempts to estimate or predict, for each individual,\n",
    "the numerical value of some variable for that individual. While classification predicts _whether_ something will happen or not, regression predicts _how much_ something will happen. "
   ]
  },
  {
   "cell_type": "markdown",
   "id": "9b9e2ffd",
   "metadata": {},
   "source": [
    "### Data Preparation"
   ]
  },
  {
   "cell_type": "code",
   "execution_count": 1,
   "id": "a9a7f40d",
   "metadata": {},
   "outputs": [],
   "source": [
    "import pandas as pd\n",
    "import numpy as np"
   ]
  },
  {
   "cell_type": "code",
   "execution_count": 2,
   "id": "52e78b5d",
   "metadata": {},
   "outputs": [],
   "source": [
    "cars = pd.read_csv('data.csv')"
   ]
  },
  {
   "cell_type": "code",
   "execution_count": 3,
   "id": "b01a9f17",
   "metadata": {},
   "outputs": [
    {
     "data": {
      "application/vnd.microsoft.datawrangler.viewer.v0+json": {
       "columns": [
        {
         "name": "index",
         "rawType": "int64",
         "type": "integer"
        },
        {
         "name": "Make",
         "rawType": "object",
         "type": "string"
        },
        {
         "name": "Model",
         "rawType": "object",
         "type": "string"
        },
        {
         "name": "Year",
         "rawType": "int64",
         "type": "integer"
        },
        {
         "name": "Engine Fuel Type",
         "rawType": "object",
         "type": "string"
        },
        {
         "name": "Engine HP",
         "rawType": "float64",
         "type": "float"
        },
        {
         "name": "Engine Cylinders",
         "rawType": "float64",
         "type": "float"
        },
        {
         "name": "Transmission Type",
         "rawType": "object",
         "type": "string"
        },
        {
         "name": "Driven_Wheels",
         "rawType": "object",
         "type": "string"
        },
        {
         "name": "Number of Doors",
         "rawType": "float64",
         "type": "float"
        },
        {
         "name": "Market Category",
         "rawType": "object",
         "type": "string"
        },
        {
         "name": "Vehicle Size",
         "rawType": "object",
         "type": "string"
        },
        {
         "name": "Vehicle Style",
         "rawType": "object",
         "type": "string"
        },
        {
         "name": "highway MPG",
         "rawType": "int64",
         "type": "integer"
        },
        {
         "name": "city mpg",
         "rawType": "int64",
         "type": "integer"
        },
        {
         "name": "Popularity",
         "rawType": "int64",
         "type": "integer"
        },
        {
         "name": "MSRP",
         "rawType": "int64",
         "type": "integer"
        }
       ],
       "ref": "a4aa7414-0e9d-419c-940d-f643c333239e",
       "rows": [
        [
         "0",
         "BMW",
         "1 Series M",
         "2011",
         "premium unleaded (required)",
         "335.0",
         "6.0",
         "MANUAL",
         "rear wheel drive",
         "2.0",
         "Factory Tuner,Luxury,High-Performance",
         "Compact",
         "Coupe",
         "26",
         "19",
         "3916",
         "46135"
        ],
        [
         "1",
         "BMW",
         "1 Series",
         "2011",
         "premium unleaded (required)",
         "300.0",
         "6.0",
         "MANUAL",
         "rear wheel drive",
         "2.0",
         "Luxury,Performance",
         "Compact",
         "Convertible",
         "28",
         "19",
         "3916",
         "40650"
        ],
        [
         "2",
         "BMW",
         "1 Series",
         "2011",
         "premium unleaded (required)",
         "300.0",
         "6.0",
         "MANUAL",
         "rear wheel drive",
         "2.0",
         "Luxury,High-Performance",
         "Compact",
         "Coupe",
         "28",
         "20",
         "3916",
         "36350"
        ],
        [
         "3",
         "BMW",
         "1 Series",
         "2011",
         "premium unleaded (required)",
         "230.0",
         "6.0",
         "MANUAL",
         "rear wheel drive",
         "2.0",
         "Luxury,Performance",
         "Compact",
         "Coupe",
         "28",
         "18",
         "3916",
         "29450"
        ],
        [
         "4",
         "BMW",
         "1 Series",
         "2011",
         "premium unleaded (required)",
         "230.0",
         "6.0",
         "MANUAL",
         "rear wheel drive",
         "2.0",
         "Luxury",
         "Compact",
         "Convertible",
         "28",
         "18",
         "3916",
         "34500"
        ]
       ],
       "shape": {
        "columns": 16,
        "rows": 5
       }
      },
      "text/html": [
       "<div>\n",
       "<style scoped>\n",
       "    .dataframe tbody tr th:only-of-type {\n",
       "        vertical-align: middle;\n",
       "    }\n",
       "\n",
       "    .dataframe tbody tr th {\n",
       "        vertical-align: top;\n",
       "    }\n",
       "\n",
       "    .dataframe thead th {\n",
       "        text-align: right;\n",
       "    }\n",
       "</style>\n",
       "<table border=\"1\" class=\"dataframe\">\n",
       "  <thead>\n",
       "    <tr style=\"text-align: right;\">\n",
       "      <th></th>\n",
       "      <th>Make</th>\n",
       "      <th>Model</th>\n",
       "      <th>Year</th>\n",
       "      <th>Engine Fuel Type</th>\n",
       "      <th>Engine HP</th>\n",
       "      <th>Engine Cylinders</th>\n",
       "      <th>Transmission Type</th>\n",
       "      <th>Driven_Wheels</th>\n",
       "      <th>Number of Doors</th>\n",
       "      <th>Market Category</th>\n",
       "      <th>Vehicle Size</th>\n",
       "      <th>Vehicle Style</th>\n",
       "      <th>highway MPG</th>\n",
       "      <th>city mpg</th>\n",
       "      <th>Popularity</th>\n",
       "      <th>MSRP</th>\n",
       "    </tr>\n",
       "  </thead>\n",
       "  <tbody>\n",
       "    <tr>\n",
       "      <th>0</th>\n",
       "      <td>BMW</td>\n",
       "      <td>1 Series M</td>\n",
       "      <td>2011</td>\n",
       "      <td>premium unleaded (required)</td>\n",
       "      <td>335.0</td>\n",
       "      <td>6.0</td>\n",
       "      <td>MANUAL</td>\n",
       "      <td>rear wheel drive</td>\n",
       "      <td>2.0</td>\n",
       "      <td>Factory Tuner,Luxury,High-Performance</td>\n",
       "      <td>Compact</td>\n",
       "      <td>Coupe</td>\n",
       "      <td>26</td>\n",
       "      <td>19</td>\n",
       "      <td>3916</td>\n",
       "      <td>46135</td>\n",
       "    </tr>\n",
       "    <tr>\n",
       "      <th>1</th>\n",
       "      <td>BMW</td>\n",
       "      <td>1 Series</td>\n",
       "      <td>2011</td>\n",
       "      <td>premium unleaded (required)</td>\n",
       "      <td>300.0</td>\n",
       "      <td>6.0</td>\n",
       "      <td>MANUAL</td>\n",
       "      <td>rear wheel drive</td>\n",
       "      <td>2.0</td>\n",
       "      <td>Luxury,Performance</td>\n",
       "      <td>Compact</td>\n",
       "      <td>Convertible</td>\n",
       "      <td>28</td>\n",
       "      <td>19</td>\n",
       "      <td>3916</td>\n",
       "      <td>40650</td>\n",
       "    </tr>\n",
       "    <tr>\n",
       "      <th>2</th>\n",
       "      <td>BMW</td>\n",
       "      <td>1 Series</td>\n",
       "      <td>2011</td>\n",
       "      <td>premium unleaded (required)</td>\n",
       "      <td>300.0</td>\n",
       "      <td>6.0</td>\n",
       "      <td>MANUAL</td>\n",
       "      <td>rear wheel drive</td>\n",
       "      <td>2.0</td>\n",
       "      <td>Luxury,High-Performance</td>\n",
       "      <td>Compact</td>\n",
       "      <td>Coupe</td>\n",
       "      <td>28</td>\n",
       "      <td>20</td>\n",
       "      <td>3916</td>\n",
       "      <td>36350</td>\n",
       "    </tr>\n",
       "    <tr>\n",
       "      <th>3</th>\n",
       "      <td>BMW</td>\n",
       "      <td>1 Series</td>\n",
       "      <td>2011</td>\n",
       "      <td>premium unleaded (required)</td>\n",
       "      <td>230.0</td>\n",
       "      <td>6.0</td>\n",
       "      <td>MANUAL</td>\n",
       "      <td>rear wheel drive</td>\n",
       "      <td>2.0</td>\n",
       "      <td>Luxury,Performance</td>\n",
       "      <td>Compact</td>\n",
       "      <td>Coupe</td>\n",
       "      <td>28</td>\n",
       "      <td>18</td>\n",
       "      <td>3916</td>\n",
       "      <td>29450</td>\n",
       "    </tr>\n",
       "    <tr>\n",
       "      <th>4</th>\n",
       "      <td>BMW</td>\n",
       "      <td>1 Series</td>\n",
       "      <td>2011</td>\n",
       "      <td>premium unleaded (required)</td>\n",
       "      <td>230.0</td>\n",
       "      <td>6.0</td>\n",
       "      <td>MANUAL</td>\n",
       "      <td>rear wheel drive</td>\n",
       "      <td>2.0</td>\n",
       "      <td>Luxury</td>\n",
       "      <td>Compact</td>\n",
       "      <td>Convertible</td>\n",
       "      <td>28</td>\n",
       "      <td>18</td>\n",
       "      <td>3916</td>\n",
       "      <td>34500</td>\n",
       "    </tr>\n",
       "  </tbody>\n",
       "</table>\n",
       "</div>"
      ],
      "text/plain": [
       "  Make       Model  Year             Engine Fuel Type  Engine HP  \\\n",
       "0  BMW  1 Series M  2011  premium unleaded (required)      335.0   \n",
       "1  BMW    1 Series  2011  premium unleaded (required)      300.0   \n",
       "2  BMW    1 Series  2011  premium unleaded (required)      300.0   \n",
       "3  BMW    1 Series  2011  premium unleaded (required)      230.0   \n",
       "4  BMW    1 Series  2011  premium unleaded (required)      230.0   \n",
       "\n",
       "   Engine Cylinders Transmission Type     Driven_Wheels  Number of Doors  \\\n",
       "0               6.0            MANUAL  rear wheel drive              2.0   \n",
       "1               6.0            MANUAL  rear wheel drive              2.0   \n",
       "2               6.0            MANUAL  rear wheel drive              2.0   \n",
       "3               6.0            MANUAL  rear wheel drive              2.0   \n",
       "4               6.0            MANUAL  rear wheel drive              2.0   \n",
       "\n",
       "                         Market Category Vehicle Size Vehicle Style  \\\n",
       "0  Factory Tuner,Luxury,High-Performance      Compact         Coupe   \n",
       "1                     Luxury,Performance      Compact   Convertible   \n",
       "2                Luxury,High-Performance      Compact         Coupe   \n",
       "3                     Luxury,Performance      Compact         Coupe   \n",
       "4                                 Luxury      Compact   Convertible   \n",
       "\n",
       "   highway MPG  city mpg  Popularity   MSRP  \n",
       "0           26        19        3916  46135  \n",
       "1           28        19        3916  40650  \n",
       "2           28        20        3916  36350  \n",
       "3           28        18        3916  29450  \n",
       "4           28        18        3916  34500  "
      ]
     },
     "execution_count": 3,
     "metadata": {},
     "output_type": "execute_result"
    }
   ],
   "source": [
    "cars.head()"
   ]
  },
  {
   "cell_type": "code",
   "execution_count": 4,
   "id": "884e05f9",
   "metadata": {},
   "outputs": [
    {
     "data": {
      "text/plain": [
       "Index(['Make', 'Model', 'Year', 'Engine Fuel Type', 'Engine HP',\n",
       "       'Engine Cylinders', 'Transmission Type', 'Driven_Wheels',\n",
       "       'Number of Doors', 'Market Category', 'Vehicle Size', 'Vehicle Style',\n",
       "       'highway MPG', 'city mpg', 'Popularity', 'MSRP'],\n",
       "      dtype='object')"
      ]
     },
     "execution_count": 4,
     "metadata": {},
     "output_type": "execute_result"
    }
   ],
   "source": [
    "cars.columns"
   ]
  },
  {
   "cell_type": "code",
   "execution_count": 5,
   "id": "d0b680ec",
   "metadata": {},
   "outputs": [
    {
     "data": {
      "application/vnd.microsoft.datawrangler.viewer.v0+json": {
       "columns": [
        {
         "name": "index",
         "rawType": "object",
         "type": "string"
        },
        {
         "name": "0",
         "rawType": "object",
         "type": "unknown"
        }
       ],
       "ref": "44c8a31f-6e95-4882-843e-64ea74591600",
       "rows": [
        [
         "Make",
         "object"
        ],
        [
         "Model",
         "object"
        ],
        [
         "Year",
         "int64"
        ],
        [
         "Engine Fuel Type",
         "object"
        ],
        [
         "Engine HP",
         "float64"
        ],
        [
         "Engine Cylinders",
         "float64"
        ],
        [
         "Transmission Type",
         "object"
        ],
        [
         "Driven_Wheels",
         "object"
        ],
        [
         "Number of Doors",
         "float64"
        ],
        [
         "Market Category",
         "object"
        ],
        [
         "Vehicle Size",
         "object"
        ],
        [
         "Vehicle Style",
         "object"
        ],
        [
         "highway MPG",
         "int64"
        ],
        [
         "city mpg",
         "int64"
        ],
        [
         "Popularity",
         "int64"
        ],
        [
         "MSRP",
         "int64"
        ]
       ],
       "shape": {
        "columns": 1,
        "rows": 16
       }
      },
      "text/plain": [
       "Make                  object\n",
       "Model                 object\n",
       "Year                   int64\n",
       "Engine Fuel Type      object\n",
       "Engine HP            float64\n",
       "Engine Cylinders     float64\n",
       "Transmission Type     object\n",
       "Driven_Wheels         object\n",
       "Number of Doors      float64\n",
       "Market Category       object\n",
       "Vehicle Size          object\n",
       "Vehicle Style         object\n",
       "highway MPG            int64\n",
       "city mpg               int64\n",
       "Popularity             int64\n",
       "MSRP                   int64\n",
       "dtype: object"
      ]
     },
     "execution_count": 5,
     "metadata": {},
     "output_type": "execute_result"
    }
   ],
   "source": [
    "cars.dtypes"
   ]
  },
  {
   "cell_type": "code",
   "execution_count": 6,
   "id": "313b07ac",
   "metadata": {},
   "outputs": [],
   "source": [
    "cars.columns = cars.columns.str.lower().str.replace(' ', '_')"
   ]
  },
  {
   "cell_type": "markdown",
   "id": "0f910fc3",
   "metadata": {},
   "source": [
    "I also need to normalise the values and make values consistent. But first I need to find out the columns that have string values. I'm interested in objects."
   ]
  },
  {
   "cell_type": "code",
   "execution_count": 7,
   "id": "9d5de9e3",
   "metadata": {},
   "outputs": [
    {
     "data": {
      "application/vnd.microsoft.datawrangler.viewer.v0+json": {
       "columns": [
        {
         "name": "index",
         "rawType": "object",
         "type": "string"
        },
        {
         "name": "0",
         "rawType": "object",
         "type": "unknown"
        }
       ],
       "ref": "ce721a67-3fa1-4e80-99d5-1543a20962db",
       "rows": [
        [
         "make",
         "object"
        ],
        [
         "model",
         "object"
        ],
        [
         "engine_fuel_type",
         "object"
        ],
        [
         "transmission_type",
         "object"
        ],
        [
         "driven_wheels",
         "object"
        ],
        [
         "market_category",
         "object"
        ],
        [
         "vehicle_size",
         "object"
        ],
        [
         "vehicle_style",
         "object"
        ]
       ],
       "shape": {
        "columns": 1,
        "rows": 8
       }
      },
      "text/plain": [
       "make                 object\n",
       "model                object\n",
       "engine_fuel_type     object\n",
       "transmission_type    object\n",
       "driven_wheels        object\n",
       "market_category      object\n",
       "vehicle_size         object\n",
       "vehicle_style        object\n",
       "dtype: object"
      ]
     },
     "execution_count": 7,
     "metadata": {},
     "output_type": "execute_result"
    }
   ],
   "source": [
    "cars.dtypes[cars.dtypes == 'object']"
   ]
  },
  {
   "cell_type": "code",
   "execution_count": 8,
   "id": "d9a0f933",
   "metadata": {},
   "outputs": [],
   "source": [
    "strings = list(cars.dtypes[cars.dtypes == 'object'].index)"
   ]
  },
  {
   "cell_type": "code",
   "execution_count": 9,
   "id": "4783bb9b",
   "metadata": {},
   "outputs": [],
   "source": [
    "# I will change the string columns (columns with string values) to lowercase and replace spaces with underscores.\n",
    "for col in strings:\n",
    "    cars[col] = cars[col].str.lower().str.replace(' ', '_', regex=True)"
   ]
  },
  {
   "cell_type": "markdown",
   "id": "b02d366a",
   "metadata": {},
   "source": [
    "### Exploratory Data Analysis"
   ]
  },
  {
   "cell_type": "code",
   "execution_count": 10,
   "id": "fda2d9a2",
   "metadata": {},
   "outputs": [
    {
     "name": "stdout",
     "output_type": "stream",
     "text": [
      "make\n",
      "['bmw' 'audi' 'fiat' 'mercedes-benz' 'chrysler']\n",
      "48\n",
      "\n",
      "model\n",
      "['1_series_m' '1_series' '100' '124_spider' '190-class']\n",
      "914\n",
      "\n",
      "year\n",
      "[2011 2012 2013 1992 1993]\n",
      "28\n",
      "\n",
      "engine_fuel_type\n",
      "['premium_unleaded_(required)' 'regular_unleaded'\n",
      " 'premium_unleaded_(recommended)' 'flex-fuel_(unleaded/e85)' 'diesel']\n",
      "10\n",
      "\n",
      "engine_hp\n",
      "[335. 300. 230. 320. 172.]\n",
      "356\n",
      "\n",
      "engine_cylinders\n",
      "[ 6.  4.  5.  8. 12.]\n",
      "9\n",
      "\n",
      "transmission_type\n",
      "['manual' 'automatic' 'automated_manual' 'direct_drive' 'unknown']\n",
      "5\n",
      "\n",
      "driven_wheels\n",
      "['rear_wheel_drive' 'front_wheel_drive' 'all_wheel_drive'\n",
      " 'four_wheel_drive']\n",
      "4\n",
      "\n",
      "number_of_doors\n",
      "[ 2.  4.  3. nan]\n",
      "3\n",
      "\n",
      "market_category\n",
      "['factory_tuner,luxury,high-performance' 'luxury,performance'\n",
      " 'luxury,high-performance' 'luxury' 'performance']\n",
      "71\n",
      "\n",
      "vehicle_size\n",
      "['compact' 'midsize' 'large']\n",
      "3\n",
      "\n",
      "vehicle_style\n",
      "['coupe' 'convertible' 'sedan' 'wagon' '4dr_hatchback']\n",
      "16\n",
      "\n",
      "highway_mpg\n",
      "[26 28 27 25 24]\n",
      "59\n",
      "\n",
      "city_mpg\n",
      "[19 20 18 17 16]\n",
      "69\n",
      "\n",
      "popularity\n",
      "[3916 3105  819  617 1013]\n",
      "48\n",
      "\n",
      "msrp\n",
      "[46135 40650 36350 29450 34500]\n",
      "6049\n",
      "\n"
     ]
    }
   ],
   "source": [
    "# I want to learn more about the columns such as their unique values.\n",
    "for col in cars.columns:\n",
    "    print(col)\n",
    "    print(cars[col].unique()[:5])\n",
    "    print(cars[col].nunique())  # This shows how many unique values there are in the column\n",
    "    print()"
   ]
  },
  {
   "cell_type": "markdown",
   "id": "1a632f81",
   "metadata": {},
   "source": [
    "##### Distribution of price\n"
   ]
  },
  {
   "cell_type": "code",
   "execution_count": 11,
   "id": "d44cf38c",
   "metadata": {},
   "outputs": [],
   "source": [
    "import matplotlib.pyplot as plt\n",
    "import seaborn as sns\n",
    "\n",
    "%matplotlib inline \n",
    "# To make sure that plots are displayed in the our notebook."
   ]
  },
  {
   "cell_type": "code",
   "execution_count": 12,
   "id": "6bab17fd",
   "metadata": {},
   "outputs": [
    {
     "data": {
      "text/plain": [
       "Text(0, 0.5, 'Count')"
      ]
     },
     "execution_count": 12,
     "metadata": {},
     "output_type": "execute_result"
    },
    {
     "data": {
      "image/png": "[encoded data removed]",
      "text/plain": [
       "<Figure size 640x480 with 1 Axes>"
      ]
     },
     "metadata": {},
     "output_type": "display_data"
    }
   ],
   "source": [
    "sns.histplot(cars.msrp, bins=50)\n",
    "plt.title('Distribution of Price')  \n",
    "plt.xlabel('Price $')\n",
    "plt.ylabel('Count')"
   ]
  },
  {
   "cell_type": "markdown",
   "id": "093fe340",
   "metadata": {},
   "source": [
    "It's a long tail distribution. This kind of distribution is confusing for the model. Therefore, we need to get rid of this long tail and thus we apply logarithmic distribution. "
   ]
  },
  {
   "cell_type": "code",
   "execution_count": 13,
   "id": "a5810fa2",
   "metadata": {},
   "outputs": [
    {
     "data": {
      "text/plain": [
       "Text(0, 0.5, 'Count')"
      ]
     },
     "execution_count": 13,
     "metadata": {},
     "output_type": "execute_result"
    },
    {
     "data": {
      "image/png": "[encoded data removed]",
      "text/plain": [
       "<Figure size 640x480 with 1 Axes>"
      ]
     },
     "metadata": {},
     "output_type": "display_data"
    }
   ],
   "source": [
    "sns.histplot(cars.msrp[cars.msrp < 100000], bins=50)\n",
    "plt.title('Distribution of Price')  \n",
    "plt.xlabel('Price ($)')\n",
    "plt.ylabel('Count')"
   ]
  },
  {
   "cell_type": "code",
   "execution_count": 14,
   "id": "bb3077c8",
   "metadata": {},
   "outputs": [
    {
     "data": {
      "text/plain": [
       "array([ 0.        ,  0.69314718,  2.39789527,  6.90875478, 11.51293546])"
      ]
     },
     "execution_count": 14,
     "metadata": {},
     "output_type": "execute_result"
    }
   ],
   "source": [
    "np.log([0 + 1, 1 + 1, 10 + 1, 1000 + 1, 100000 + 1])\n",
    "\n",
    "# I will apply the log transformation to the msrp column to reduce skewness.\n",
    "# Because logarithm of 0 is undefined, I will add 1 to the msrp values before applying the log transformation."
   ]
  },
  {
   "cell_type": "code",
   "execution_count": 15,
   "id": "d425abf9",
   "metadata": {},
   "outputs": [
    {
     "data": {
      "text/plain": [
       "array([ 0.        ,  0.69314718,  2.39789527,  6.90875478, 11.51293546])"
      ]
     },
     "execution_count": 15,
     "metadata": {},
     "output_type": "execute_result"
    }
   ],
   "source": [
    "# A shortcut for the above code is to use log1p function from numpy.\n",
    "np.log1p([0, 1, 10, 1000, 100000])"
   ]
  },
  {
   "cell_type": "code",
   "execution_count": 16,
   "id": "56400422",
   "metadata": {},
   "outputs": [
    {
     "data": {
      "application/vnd.microsoft.datawrangler.viewer.v0+json": {
       "columns": [
        {
         "name": "index",
         "rawType": "int64",
         "type": "integer"
        },
        {
         "name": "msrp",
         "rawType": "float64",
         "type": "float"
        }
       ],
       "ref": "c49b24d6-b77a-4b3c-856c-6e35fbb52249",
       "rows": [
        [
         "0",
         "10.739348835295248"
        ],
        [
         "1",
         "10.612778714919378"
        ],
        [
         "2",
         "10.500976992899632"
        ],
        [
         "3",
         "10.290483144360632"
        ],
        [
         "4",
         "10.448743588106625"
        ],
        [
         "5",
         "10.348205424565993"
        ],
        [
         "6",
         "10.694237736914808"
        ],
        [
         "7",
         "10.579005242826247"
        ],
        [
         "8",
         "10.515993929932415"
        ],
        [
         "9",
         "10.524090921620362"
        ],
        [
         "10",
         "10.586609649448985"
        ],
        [
         "11",
         "10.357774570341576"
        ],
        [
         "12",
         "10.70101727068921"
        ],
        [
         "13",
         "10.524090921620362"
        ],
        [
         "14",
         "10.357774570341576"
        ],
        [
         "15",
         "10.784171831940965"
        ],
        [
         "16",
         "10.681687944129537"
        ],
        [
         "17",
         "7.601402334583733"
        ],
        [
         "18",
         "7.601402334583733"
        ],
        [
         "19",
         "7.601402334583733"
        ],
        [
         "20",
         "7.601402334583733"
        ],
        [
         "21",
         "7.601402334583733"
        ],
        [
         "22",
         "7.601402334583733"
        ],
        [
         "23",
         "7.601402334583733"
        ],
        [
         "24",
         "7.601402334583733"
        ],
        [
         "25",
         "7.601402334583733"
        ],
        [
         "26",
         "7.601402334583733"
        ],
        [
         "27",
         "7.601402334583733"
        ],
        [
         "28",
         "7.601402334583733"
        ],
        [
         "29",
         "7.601402334583733"
        ],
        [
         "30",
         "7.601402334583733"
        ],
        [
         "31",
         "7.601402334583733"
        ],
        [
         "32",
         "10.22179581852967"
        ],
        [
         "33",
         "10.126471091048971"
        ],
        [
         "34",
         "10.246935402893767"
        ],
        [
         "35",
         "7.601402334583733"
        ],
        [
         "36",
         "7.601402334583733"
        ],
        [
         "37",
         "7.601402334583733"
        ],
        [
         "38",
         "7.601402334583733"
        ],
        [
         "39",
         "7.601402334583733"
        ],
        [
         "40",
         "7.601402334583733"
        ],
        [
         "41",
         "10.39973746484973"
        ],
        [
         "42",
         "10.562327926902078"
        ],
        [
         "43",
         "10.79448098903612"
        ],
        [
         "44",
         "10.458837110181584"
        ],
        [
         "45",
         "10.612778714919378"
        ],
        [
         "46",
         "10.695370855832223"
        ],
        [
         "47",
         "10.39973746484973"
        ],
        [
         "48",
         "10.739673908168612"
        ],
        [
         "49",
         "10.834686601143401"
        ]
       ],
       "shape": {
        "columns": 1,
        "rows": 11914
       }
      },
      "text/plain": [
       "0        10.739349\n",
       "1        10.612779\n",
       "2        10.500977\n",
       "3        10.290483\n",
       "4        10.448744\n",
       "           ...    \n",
       "11909    10.739024\n",
       "11910    10.945018\n",
       "11911    10.832122\n",
       "11912    10.838031\n",
       "11913    10.274913\n",
       "Name: msrp, Length: 11914, dtype: float64"
      ]
     },
     "execution_count": 16,
     "metadata": {},
     "output_type": "execute_result"
    }
   ],
   "source": [
    "price_logs = np.log1p(cars.msrp)\n",
    "price_logs"
   ]
  },
  {
   "cell_type": "code",
   "execution_count": 17,
   "id": "e8c0fa61",
   "metadata": {},
   "outputs": [
    {
     "data": {
      "text/plain": [
       "<Axes: xlabel='msrp', ylabel='Count'>"
      ]
     },
     "execution_count": 17,
     "metadata": {},
     "output_type": "execute_result"
    },
    {
     "data": {
      "image/png": "[encoded data removed]",
      "text/plain": [
       "<Figure size 640x480 with 1 Axes>"
      ]
     },
     "metadata": {},
     "output_type": "display_data"
    }
   ],
   "source": [
    "sns.histplot(price_logs, bins=50)"
   ]
  },
  {
   "cell_type": "markdown",
   "id": "1b5b4e7c",
   "metadata": {},
   "source": [
    "The distribution between 9 and 14 is a normal distribution and perfect for our model."
   ]
  },
  {
   "cell_type": "markdown",
   "id": "cf435cc4",
   "metadata": {},
   "source": [
    "##### Missing Values"
   ]
  },
  {
   "cell_type": "markdown",
   "id": "1211225b",
   "metadata": {},
   "source": [
    "Let's see whether there are the missing values"
   ]
  },
  {
   "cell_type": "code",
   "execution_count": 18,
   "id": "6a8319a4",
   "metadata": {},
   "outputs": [
    {
     "data": {
      "application/vnd.microsoft.datawrangler.viewer.v0+json": {
       "columns": [
        {
         "name": "index",
         "rawType": "object",
         "type": "string"
        },
        {
         "name": "0",
         "rawType": "int64",
         "type": "integer"
        }
       ],
       "ref": "0cfadf0b-ec92-4097-bcc8-e068ae15c92c",
       "rows": [
        [
         "make",
         "0"
        ],
        [
         "model",
         "0"
        ],
        [
         "year",
         "0"
        ],
        [
         "engine_fuel_type",
         "3"
        ],
        [
         "engine_hp",
         "69"
        ],
        [
         "engine_cylinders",
         "30"
        ],
        [
         "transmission_type",
         "0"
        ],
        [
         "driven_wheels",
         "0"
        ],
        [
         "number_of_doors",
         "6"
        ],
        [
         "market_category",
         "3742"
        ],
        [
         "vehicle_size",
         "0"
        ],
        [
         "vehicle_style",
         "0"
        ],
        [
         "highway_mpg",
         "0"
        ],
        [
         "city_mpg",
         "0"
        ],
        [
         "popularity",
         "0"
        ],
        [
         "msrp",
         "0"
        ]
       ],
       "shape": {
        "columns": 1,
        "rows": 16
       }
      },
      "text/plain": [
       "make                    0\n",
       "model                   0\n",
       "year                    0\n",
       "engine_fuel_type        3\n",
       "engine_hp              69\n",
       "engine_cylinders       30\n",
       "transmission_type       0\n",
       "driven_wheels           0\n",
       "number_of_doors         6\n",
       "market_category      3742\n",
       "vehicle_size            0\n",
       "vehicle_style           0\n",
       "highway_mpg             0\n",
       "city_mpg                0\n",
       "popularity              0\n",
       "msrp                    0\n",
       "dtype: int64"
      ]
     },
     "execution_count": 18,
     "metadata": {},
     "output_type": "execute_result"
    }
   ],
   "source": [
    "cars.isnull().sum()\n"
   ]
  },
  {
   "cell_type": "markdown",
   "id": "fb7b3dd7",
   "metadata": {},
   "source": [
    "## Setting the validation framework"
   ]
  },
  {
   "cell_type": "markdown",
   "id": "7bffb18e",
   "metadata": {},
   "source": [
    "Now, I need to split the data into training dateset, validation and testing datasets. 60% for training data, 20% for validation and 20% of data will be used for testing."
   ]
  },
  {
   "cell_type": "code",
   "execution_count": 19,
   "id": "c79de452",
   "metadata": {},
   "outputs": [],
   "source": [
    "n_data = len(cars)\n",
    "n_val = int(n_data * 0.2)  # 20% of the data for validation\n",
    "n_test = int(n_data * 0.2)  # 20% of the data for testing\n",
    "n_train = n_data - n_val - n_test  # Remaining data for training\n"
   ]
  },
  {
   "cell_type": "code",
   "execution_count": 20,
   "id": "bf6b224f",
   "metadata": {},
   "outputs": [
    {
     "data": {
      "text/plain": [
       "(2382, 2382, 7150)"
      ]
     },
     "execution_count": 20,
     "metadata": {},
     "output_type": "execute_result"
    }
   ],
   "source": [
    "n_val, n_test, n_train"
   ]
  },
  {
   "cell_type": "code",
   "execution_count": 21,
   "id": "0c3ca704",
   "metadata": {},
   "outputs": [
    {
     "data": {
      "application/vnd.microsoft.datawrangler.viewer.v0+json": {
       "columns": [
        {
         "name": "index",
         "rawType": "int64",
         "type": "integer"
        },
        {
         "name": "make",
         "rawType": "object",
         "type": "string"
        },
        {
         "name": "model",
         "rawType": "object",
         "type": "string"
        },
        {
         "name": "year",
         "rawType": "int64",
         "type": "integer"
        },
        {
         "name": "engine_fuel_type",
         "rawType": "object",
         "type": "string"
        },
        {
         "name": "engine_hp",
         "rawType": "float64",
         "type": "float"
        },
        {
         "name": "engine_cylinders",
         "rawType": "float64",
         "type": "float"
        },
        {
         "name": "transmission_type",
         "rawType": "object",
         "type": "string"
        },
        {
         "name": "driven_wheels",
         "rawType": "object",
         "type": "string"
        },
        {
         "name": "number_of_doors",
         "rawType": "float64",
         "type": "float"
        },
        {
         "name": "market_category",
         "rawType": "object",
         "type": "string"
        },
        {
         "name": "vehicle_size",
         "rawType": "object",
         "type": "string"
        },
        {
         "name": "vehicle_style",
         "rawType": "object",
         "type": "string"
        },
        {
         "name": "highway_mpg",
         "rawType": "int64",
         "type": "integer"
        },
        {
         "name": "city_mpg",
         "rawType": "int64",
         "type": "integer"
        },
        {
         "name": "popularity",
         "rawType": "int64",
         "type": "integer"
        },
        {
         "name": "msrp",
         "rawType": "int64",
         "type": "integer"
        }
       ],
       "ref": "8d3efa74-f89c-4a7f-9528-fe8c66656b28",
       "rows": [
        [
         "0",
         "bmw",
         "1_series_m",
         "2011",
         "premium_unleaded_(required)",
         "335.0",
         "6.0",
         "manual",
         "rear_wheel_drive",
         "2.0",
         "factory_tuner,luxury,high-performance",
         "compact",
         "coupe",
         "26",
         "19",
         "3916",
         "46135"
        ],
        [
         "1",
         "bmw",
         "1_series",
         "2011",
         "premium_unleaded_(required)",
         "300.0",
         "6.0",
         "manual",
         "rear_wheel_drive",
         "2.0",
         "luxury,performance",
         "compact",
         "convertible",
         "28",
         "19",
         "3916",
         "40650"
        ],
        [
         "2",
         "bmw",
         "1_series",
         "2011",
         "premium_unleaded_(required)",
         "300.0",
         "6.0",
         "manual",
         "rear_wheel_drive",
         "2.0",
         "luxury,high-performance",
         "compact",
         "coupe",
         "28",
         "20",
         "3916",
         "36350"
        ],
        [
         "3",
         "bmw",
         "1_series",
         "2011",
         "premium_unleaded_(required)",
         "230.0",
         "6.0",
         "manual",
         "rear_wheel_drive",
         "2.0",
         "luxury,performance",
         "compact",
         "coupe",
         "28",
         "18",
         "3916",
         "29450"
        ],
        [
         "4",
         "bmw",
         "1_series",
         "2011",
         "premium_unleaded_(required)",
         "230.0",
         "6.0",
         "manual",
         "rear_wheel_drive",
         "2.0",
         "luxury",
         "compact",
         "convertible",
         "28",
         "18",
         "3916",
         "34500"
        ],
        [
         "5",
         "bmw",
         "1_series",
         "2012",
         "premium_unleaded_(required)",
         "230.0",
         "6.0",
         "manual",
         "rear_wheel_drive",
         "2.0",
         "luxury,performance",
         "compact",
         "coupe",
         "28",
         "18",
         "3916",
         "31200"
        ],
        [
         "6",
         "bmw",
         "1_series",
         "2012",
         "premium_unleaded_(required)",
         "300.0",
         "6.0",
         "manual",
         "rear_wheel_drive",
         "2.0",
         "luxury,performance",
         "compact",
         "convertible",
         "26",
         "17",
         "3916",
         "44100"
        ],
        [
         "7",
         "bmw",
         "1_series",
         "2012",
         "premium_unleaded_(required)",
         "300.0",
         "6.0",
         "manual",
         "rear_wheel_drive",
         "2.0",
         "luxury,high-performance",
         "compact",
         "coupe",
         "28",
         "20",
         "3916",
         "39300"
        ],
        [
         "8",
         "bmw",
         "1_series",
         "2012",
         "premium_unleaded_(required)",
         "230.0",
         "6.0",
         "manual",
         "rear_wheel_drive",
         "2.0",
         "luxury",
         "compact",
         "convertible",
         "28",
         "18",
         "3916",
         "36900"
        ],
        [
         "9",
         "bmw",
         "1_series",
         "2013",
         "premium_unleaded_(required)",
         "230.0",
         "6.0",
         "manual",
         "rear_wheel_drive",
         "2.0",
         "luxury",
         "compact",
         "convertible",
         "27",
         "18",
         "3916",
         "37200"
        ]
       ],
       "shape": {
        "columns": 16,
        "rows": 10
       }
      },
      "text/html": [
       "<div>\n",
       "<style scoped>\n",
       "    .dataframe tbody tr th:only-of-type {\n",
       "        vertical-align: middle;\n",
       "    }\n",
       "\n",
       "    .dataframe tbody tr th {\n",
       "        vertical-align: top;\n",
       "    }\n",
       "\n",
       "    .dataframe thead th {\n",
       "        text-align: right;\n",
       "    }\n",
       "</style>\n",
       "<table border=\"1\" class=\"dataframe\">\n",
       "  <thead>\n",
       "    <tr style=\"text-align: right;\">\n",
       "      <th></th>\n",
       "      <th>make</th>\n",
       "      <th>model</th>\n",
       "      <th>year</th>\n",
       "      <th>engine_fuel_type</th>\n",
       "      <th>engine_hp</th>\n",
       "      <th>engine_cylinders</th>\n",
       "      <th>transmission_type</th>\n",
       "      <th>driven_wheels</th>\n",
       "      <th>number_of_doors</th>\n",
       "      <th>market_category</th>\n",
       "      <th>vehicle_size</th>\n",
       "      <th>vehicle_style</th>\n",
       "      <th>highway_mpg</th>\n",
       "      <th>city_mpg</th>\n",
       "      <th>popularity</th>\n",
       "      <th>msrp</th>\n",
       "    </tr>\n",
       "  </thead>\n",
       "  <tbody>\n",
       "    <tr>\n",
       "      <th>0</th>\n",
       "      <td>bmw</td>\n",
       "      <td>1_series_m</td>\n",
       "      <td>2011</td>\n",
       "      <td>premium_unleaded_(required)</td>\n",
       "      <td>335.0</td>\n",
       "      <td>6.0</td>\n",
       "      <td>manual</td>\n",
       "      <td>rear_wheel_drive</td>\n",
       "      <td>2.0</td>\n",
       "      <td>factory_tuner,luxury,high-performance</td>\n",
       "      <td>compact</td>\n",
       "      <td>coupe</td>\n",
       "      <td>26</td>\n",
       "      <td>19</td>\n",
       "      <td>3916</td>\n",
       "      <td>46135</td>\n",
       "    </tr>\n",
       "    <tr>\n",
       "      <th>1</th>\n",
       "      <td>bmw</td>\n",
       "      <td>1_series</td>\n",
       "      <td>2011</td>\n",
       "      <td>premium_unleaded_(required)</td>\n",
       "      <td>300.0</td>\n",
       "      <td>6.0</td>\n",
       "      <td>manual</td>\n",
       "      <td>rear_wheel_drive</td>\n",
       "      <td>2.0</td>\n",
       "      <td>luxury,performance</td>\n",
       "      <td>compact</td>\n",
       "      <td>convertible</td>\n",
       "      <td>28</td>\n",
       "      <td>19</td>\n",
       "      <td>3916</td>\n",
       "      <td>40650</td>\n",
       "    </tr>\n",
       "    <tr>\n",
       "      <th>2</th>\n",
       "      <td>bmw</td>\n",
       "      <td>1_series</td>\n",
       "      <td>2011</td>\n",
       "      <td>premium_unleaded_(required)</td>\n",
       "      <td>300.0</td>\n",
       "      <td>6.0</td>\n",
       "      <td>manual</td>\n",
       "      <td>rear_wheel_drive</td>\n",
       "      <td>2.0</td>\n",
       "      <td>luxury,high-performance</td>\n",
       "      <td>compact</td>\n",
       "      <td>coupe</td>\n",
       "      <td>28</td>\n",
       "      <td>20</td>\n",
       "      <td>3916</td>\n",
       "      <td>36350</td>\n",
       "    </tr>\n",
       "    <tr>\n",
       "      <th>3</th>\n",
       "      <td>bmw</td>\n",
       "      <td>1_series</td>\n",
       "      <td>2011</td>\n",
       "      <td>premium_unleaded_(required)</td>\n",
       "      <td>230.0</td>\n",
       "      <td>6.0</td>\n",
       "      <td>manual</td>\n",
       "      <td>rear_wheel_drive</td>\n",
       "      <td>2.0</td>\n",
       "      <td>luxury,performance</td>\n",
       "      <td>compact</td>\n",
       "      <td>coupe</td>\n",
       "      <td>28</td>\n",
       "      <td>18</td>\n",
       "      <td>3916</td>\n",
       "      <td>29450</td>\n",
       "    </tr>\n",
       "    <tr>\n",
       "      <th>4</th>\n",
       "      <td>bmw</td>\n",
       "      <td>1_series</td>\n",
       "      <td>2011</td>\n",
       "      <td>premium_unleaded_(required)</td>\n",
       "      <td>230.0</td>\n",
       "      <td>6.0</td>\n",
       "      <td>manual</td>\n",
       "      <td>rear_wheel_drive</td>\n",
       "      <td>2.0</td>\n",
       "      <td>luxury</td>\n",
       "      <td>compact</td>\n",
       "      <td>convertible</td>\n",
       "      <td>28</td>\n",
       "      <td>18</td>\n",
       "      <td>3916</td>\n",
       "      <td>34500</td>\n",
       "    </tr>\n",
       "    <tr>\n",
       "      <th>5</th>\n",
       "      <td>bmw</td>\n",
       "      <td>1_series</td>\n",
       "      <td>2012</td>\n",
       "      <td>premium_unleaded_(required)</td>\n",
       "      <td>230.0</td>\n",
       "      <td>6.0</td>\n",
       "      <td>manual</td>\n",
       "      <td>rear_wheel_drive</td>\n",
       "      <td>2.0</td>\n",
       "      <td>luxury,performance</td>\n",
       "      <td>compact</td>\n",
       "      <td>coupe</td>\n",
       "      <td>28</td>\n",
       "      <td>18</td>\n",
       "      <td>3916</td>\n",
       "      <td>31200</td>\n",
       "    </tr>\n",
       "    <tr>\n",
       "      <th>6</th>\n",
       "      <td>bmw</td>\n",
       "      <td>1_series</td>\n",
       "      <td>2012</td>\n",
       "      <td>premium_unleaded_(required)</td>\n",
       "      <td>300.0</td>\n",
       "      <td>6.0</td>\n",
       "      <td>manual</td>\n",
       "      <td>rear_wheel_drive</td>\n",
       "      <td>2.0</td>\n",
       "      <td>luxury,performance</td>\n",
       "      <td>compact</td>\n",
       "      <td>convertible</td>\n",
       "      <td>26</td>\n",
       "      <td>17</td>\n",
       "      <td>3916</td>\n",
       "      <td>44100</td>\n",
       "    </tr>\n",
       "    <tr>\n",
       "      <th>7</th>\n",
       "      <td>bmw</td>\n",
       "      <td>1_series</td>\n",
       "      <td>2012</td>\n",
       "      <td>premium_unleaded_(required)</td>\n",
       "      <td>300.0</td>\n",
       "      <td>6.0</td>\n",
       "      <td>manual</td>\n",
       "      <td>rear_wheel_drive</td>\n",
       "      <td>2.0</td>\n",
       "      <td>luxury,high-performance</td>\n",
       "      <td>compact</td>\n",
       "      <td>coupe</td>\n",
       "      <td>28</td>\n",
       "      <td>20</td>\n",
       "      <td>3916</td>\n",
       "      <td>39300</td>\n",
       "    </tr>\n",
       "    <tr>\n",
       "      <th>8</th>\n",
       "      <td>bmw</td>\n",
       "      <td>1_series</td>\n",
       "      <td>2012</td>\n",
       "      <td>premium_unleaded_(required)</td>\n",
       "      <td>230.0</td>\n",
       "      <td>6.0</td>\n",
       "      <td>manual</td>\n",
       "      <td>rear_wheel_drive</td>\n",
       "      <td>2.0</td>\n",
       "      <td>luxury</td>\n",
       "      <td>compact</td>\n",
       "      <td>convertible</td>\n",
       "      <td>28</td>\n",
       "      <td>18</td>\n",
       "      <td>3916</td>\n",
       "      <td>36900</td>\n",
       "    </tr>\n",
       "    <tr>\n",
       "      <th>9</th>\n",
       "      <td>bmw</td>\n",
       "      <td>1_series</td>\n",
       "      <td>2013</td>\n",
       "      <td>premium_unleaded_(required)</td>\n",
       "      <td>230.0</td>\n",
       "      <td>6.0</td>\n",
       "      <td>manual</td>\n",
       "      <td>rear_wheel_drive</td>\n",
       "      <td>2.0</td>\n",
       "      <td>luxury</td>\n",
       "      <td>compact</td>\n",
       "      <td>convertible</td>\n",
       "      <td>27</td>\n",
       "      <td>18</td>\n",
       "      <td>3916</td>\n",
       "      <td>37200</td>\n",
       "    </tr>\n",
       "  </tbody>\n",
       "</table>\n",
       "</div>"
      ],
      "text/plain": [
       "  make       model  year             engine_fuel_type  engine_hp  \\\n",
       "0  bmw  1_series_m  2011  premium_unleaded_(required)      335.0   \n",
       "1  bmw    1_series  2011  premium_unleaded_(required)      300.0   \n",
       "2  bmw    1_series  2011  premium_unleaded_(required)      300.0   \n",
       "3  bmw    1_series  2011  premium_unleaded_(required)      230.0   \n",
       "4  bmw    1_series  2011  premium_unleaded_(required)      230.0   \n",
       "5  bmw    1_series  2012  premium_unleaded_(required)      230.0   \n",
       "6  bmw    1_series  2012  premium_unleaded_(required)      300.0   \n",
       "7  bmw    1_series  2012  premium_unleaded_(required)      300.0   \n",
       "8  bmw    1_series  2012  premium_unleaded_(required)      230.0   \n",
       "9  bmw    1_series  2013  premium_unleaded_(required)      230.0   \n",
       "\n",
       "   engine_cylinders transmission_type     driven_wheels  number_of_doors  \\\n",
       "0               6.0            manual  rear_wheel_drive              2.0   \n",
       "1               6.0            manual  rear_wheel_drive              2.0   \n",
       "2               6.0            manual  rear_wheel_drive              2.0   \n",
       "3               6.0            manual  rear_wheel_drive              2.0   \n",
       "4               6.0            manual  rear_wheel_drive              2.0   \n",
       "5               6.0            manual  rear_wheel_drive              2.0   \n",
       "6               6.0            manual  rear_wheel_drive              2.0   \n",
       "7               6.0            manual  rear_wheel_drive              2.0   \n",
       "8               6.0            manual  rear_wheel_drive              2.0   \n",
       "9               6.0            manual  rear_wheel_drive              2.0   \n",
       "\n",
       "                         market_category vehicle_size vehicle_style  \\\n",
       "0  factory_tuner,luxury,high-performance      compact         coupe   \n",
       "1                     luxury,performance      compact   convertible   \n",
       "2                luxury,high-performance      compact         coupe   \n",
       "3                     luxury,performance      compact         coupe   \n",
       "4                                 luxury      compact   convertible   \n",
       "5                     luxury,performance      compact         coupe   \n",
       "6                     luxury,performance      compact   convertible   \n",
       "7                luxury,high-performance      compact         coupe   \n",
       "8                                 luxury      compact   convertible   \n",
       "9                                 luxury      compact   convertible   \n",
       "\n",
       "   highway_mpg  city_mpg  popularity   msrp  \n",
       "0           26        19        3916  46135  \n",
       "1           28        19        3916  40650  \n",
       "2           28        20        3916  36350  \n",
       "3           28        18        3916  29450  \n",
       "4           28        18        3916  34500  \n",
       "5           28        18        3916  31200  \n",
       "6           26        17        3916  44100  \n",
       "7           28        20        3916  39300  \n",
       "8           28        18        3916  36900  \n",
       "9           27        18        3916  37200  "
      ]
     },
     "execution_count": 21,
     "metadata": {},
     "output_type": "execute_result"
    }
   ],
   "source": [
    "cars.iloc[:10]"
   ]
  },
  {
   "cell_type": "code",
   "execution_count": 22,
   "id": "35e43034",
   "metadata": {},
   "outputs": [],
   "source": [
    "cars_train = cars.iloc[:n_train]\n",
    "cars_val = cars.iloc[n_train:n_train + n_val]\n",
    "cars_test = cars.iloc[n_train + n_val:]"
   ]
  },
  {
   "cell_type": "code",
   "execution_count": 23,
   "id": "6e5307cf",
   "metadata": {},
   "outputs": [
    {
     "data": {
      "application/vnd.microsoft.datawrangler.viewer.v0+json": {
       "columns": [
        {
         "name": "index",
         "rawType": "int64",
         "type": "integer"
        },
        {
         "name": "make",
         "rawType": "object",
         "type": "string"
        },
        {
         "name": "model",
         "rawType": "object",
         "type": "string"
        },
        {
         "name": "year",
         "rawType": "int64",
         "type": "integer"
        },
        {
         "name": "engine_fuel_type",
         "rawType": "object",
         "type": "string"
        },
        {
         "name": "engine_hp",
         "rawType": "float64",
         "type": "float"
        },
        {
         "name": "engine_cylinders",
         "rawType": "float64",
         "type": "float"
        },
        {
         "name": "transmission_type",
         "rawType": "object",
         "type": "string"
        },
        {
         "name": "driven_wheels",
         "rawType": "object",
         "type": "string"
        },
        {
         "name": "number_of_doors",
         "rawType": "float64",
         "type": "float"
        },
        {
         "name": "market_category",
         "rawType": "object",
         "type": "unknown"
        },
        {
         "name": "vehicle_size",
         "rawType": "object",
         "type": "string"
        },
        {
         "name": "vehicle_style",
         "rawType": "object",
         "type": "string"
        },
        {
         "name": "highway_mpg",
         "rawType": "int64",
         "type": "integer"
        },
        {
         "name": "city_mpg",
         "rawType": "int64",
         "type": "integer"
        },
        {
         "name": "popularity",
         "rawType": "int64",
         "type": "integer"
        },
        {
         "name": "msrp",
         "rawType": "int64",
         "type": "integer"
        }
       ],
       "ref": "5a0ba752-85a9-4e8b-9b2b-ef77385217ca",
       "rows": [
        [
         "7150",
         "lincoln",
         "navigator",
         "2015",
         "regular_unleaded",
         "365.0",
         "6.0",
         "automatic",
         "rear_wheel_drive",
         "4.0",
         "luxury",
         "large",
         "4dr_suv",
         "20",
         "15",
         "61",
         "63645"
        ],
        [
         "7151",
         "lincoln",
         "navigator",
         "2016",
         "regular_unleaded",
         "380.0",
         "6.0",
         "automatic",
         "rear_wheel_drive",
         "4.0",
         "luxury",
         "large",
         "4dr_suv",
         "22",
         "16",
         "61",
         "63195"
        ],
        [
         "7152",
         "lincoln",
         "navigator",
         "2016",
         "regular_unleaded",
         "380.0",
         "6.0",
         "automatic",
         "four_wheel_drive",
         "4.0",
         "luxury",
         "large",
         "4dr_suv",
         "19",
         "15",
         "61",
         "76650"
        ],
        [
         "7153",
         "lincoln",
         "navigator",
         "2016",
         "regular_unleaded",
         "380.0",
         "6.0",
         "automatic",
         "four_wheel_drive",
         "4.0",
         "luxury",
         "large",
         "4dr_suv",
         "19",
         "15",
         "61",
         "69135"
        ],
        [
         "7154",
         "lincoln",
         "navigator",
         "2016",
         "regular_unleaded",
         "380.0",
         "6.0",
         "automatic",
         "rear_wheel_drive",
         "4.0",
         "luxury",
         "large",
         "4dr_suv",
         "20",
         "15",
         "61",
         "65560"
        ],
        [
         "7155",
         "lincoln",
         "navigator",
         "2016",
         "regular_unleaded",
         "380.0",
         "6.0",
         "automatic",
         "rear_wheel_drive",
         "4.0",
         "luxury",
         "large",
         "4dr_suv",
         "20",
         "15",
         "61",
         "73645"
        ],
        [
         "7156",
         "lincoln",
         "navigator",
         "2016",
         "regular_unleaded",
         "380.0",
         "6.0",
         "automatic",
         "four_wheel_drive",
         "4.0",
         "luxury",
         "large",
         "4dr_suv",
         "20",
         "15",
         "61",
         "74260"
        ],
        [
         "7157",
         "lincoln",
         "navigator",
         "2016",
         "regular_unleaded",
         "380.0",
         "6.0",
         "automatic",
         "four_wheel_drive",
         "4.0",
         "luxury",
         "large",
         "4dr_suv",
         "20",
         "15",
         "61",
         "66770"
        ],
        [
         "7158",
         "lincoln",
         "navigator",
         "2016",
         "regular_unleaded",
         "380.0",
         "6.0",
         "automatic",
         "rear_wheel_drive",
         "4.0",
         "luxury",
         "large",
         "4dr_suv",
         "22",
         "16",
         "61",
         "71260"
        ],
        [
         "7159",
         "lincoln",
         "navigator",
         "2017",
         "regular_unleaded",
         "380.0",
         "6.0",
         "automatic",
         "rear_wheel_drive",
         "4.0",
         "luxury",
         "large",
         "4dr_suv",
         "20",
         "15",
         "61",
         "65560"
        ],
        [
         "7160",
         "lincoln",
         "navigator",
         "2017",
         "regular_unleaded",
         "380.0",
         "6.0",
         "automatic",
         "rear_wheel_drive",
         "4.0",
         "luxury",
         "large",
         "4dr_suv",
         "21",
         "15",
         "61",
         "71260"
        ],
        [
         "7161",
         "lincoln",
         "navigator",
         "2017",
         "regular_unleaded",
         "380.0",
         "6.0",
         "automatic",
         "four_wheel_drive",
         "4.0",
         "luxury",
         "large",
         "4dr_suv",
         "20",
         "15",
         "61",
         "66770"
        ],
        [
         "7162",
         "lincoln",
         "navigator",
         "2017",
         "regular_unleaded",
         "380.0",
         "6.0",
         "automatic",
         "rear_wheel_drive",
         "4.0",
         "luxury",
         "large",
         "4dr_suv",
         "21",
         "15",
         "61",
         "63195"
        ],
        [
         "7163",
         "lincoln",
         "navigator",
         "2017",
         "regular_unleaded",
         "380.0",
         "6.0",
         "automatic",
         "four_wheel_drive",
         "4.0",
         "luxury",
         "large",
         "4dr_suv",
         "19",
         "15",
         "61",
         "69135"
        ],
        [
         "7164",
         "lincoln",
         "navigator",
         "2017",
         "regular_unleaded",
         "380.0",
         "6.0",
         "automatic",
         "four_wheel_drive",
         "4.0",
         "luxury",
         "large",
         "4dr_suv",
         "19",
         "15",
         "61",
         "76645"
        ],
        [
         "7165",
         "lincoln",
         "navigator",
         "2017",
         "regular_unleaded",
         "380.0",
         "6.0",
         "automatic",
         "rear_wheel_drive",
         "4.0",
         "luxury",
         "large",
         "4dr_suv",
         "20",
         "15",
         "61",
         "73650"
        ],
        [
         "7166",
         "lincoln",
         "navigator",
         "2017",
         "regular_unleaded",
         "380.0",
         "6.0",
         "automatic",
         "four_wheel_drive",
         "4.0",
         "luxury",
         "large",
         "4dr_suv",
         "20",
         "15",
         "61",
         "74260"
        ],
        [
         "7167",
         "dodge",
         "neon",
         "2003",
         "premium_unleaded_(required)",
         "215.0",
         "4.0",
         "manual",
         "front_wheel_drive",
         "4.0",
         "factory_tuner,performance",
         "compact",
         "sedan",
         "27",
         "19",
         "1851",
         "19450"
        ],
        [
         "7168",
         "dodge",
         "neon",
         "2003",
         "regular_unleaded",
         "132.0",
         "4.0",
         "manual",
         "front_wheel_drive",
         "4.0",
         null,
         "compact",
         "sedan",
         "32",
         "25",
         "1851",
         "13030"
        ],
        [
         "7169",
         "dodge",
         "neon",
         "2003",
         "premium_unleaded_(required)",
         "150.0",
         "4.0",
         "manual",
         "front_wheel_drive",
         "4.0",
         null,
         "compact",
         "sedan",
         "32",
         "25",
         "1851",
         "17085"
        ],
        [
         "7170",
         "dodge",
         "neon",
         "2003",
         "regular_unleaded",
         "132.0",
         "4.0",
         "manual",
         "front_wheel_drive",
         "4.0",
         null,
         "compact",
         "sedan",
         "32",
         "25",
         "1851",
         "15340"
        ],
        [
         "7171",
         "dodge",
         "neon",
         "2004",
         "regular_unleaded",
         "132.0",
         "4.0",
         "automatic",
         "front_wheel_drive",
         "4.0",
         null,
         "compact",
         "sedan",
         "29",
         "22",
         "1851",
         "14315"
        ],
        [
         "7172",
         "dodge",
         "neon",
         "2004",
         "premium_unleaded_(required)",
         "150.0",
         "4.0",
         "manual",
         "front_wheel_drive",
         "4.0",
         null,
         "compact",
         "sedan",
         "32",
         "25",
         "1851",
         "17640"
        ],
        [
         "7173",
         "dodge",
         "neon",
         "2004",
         "regular_unleaded",
         "132.0",
         "4.0",
         "manual",
         "front_wheel_drive",
         "4.0",
         null,
         "compact",
         "sedan",
         "32",
         "25",
         "1851",
         "15800"
        ],
        [
         "7174",
         "dodge",
         "neon",
         "2004",
         "premium_unleaded_(required)",
         "225.0",
         "4.0",
         "manual",
         "front_wheel_drive",
         "4.0",
         "factory_tuner,performance",
         "compact",
         "sedan",
         "28",
         "19",
         "1851",
         "20450"
        ],
        [
         "7175",
         "dodge",
         "neon",
         "2004",
         "regular_unleaded",
         "132.0",
         "4.0",
         "manual",
         "front_wheel_drive",
         "4.0",
         null,
         "compact",
         "sedan",
         "32",
         "25",
         "1851",
         "13490"
        ],
        [
         "7176",
         "dodge",
         "neon",
         "2004",
         "regular_unleaded",
         "132.0",
         "4.0",
         "automatic",
         "front_wheel_drive",
         "4.0",
         null,
         "compact",
         "sedan",
         "29",
         "22",
         "1851",
         "16625"
        ],
        [
         "7177",
         "dodge",
         "neon",
         "2005",
         "regular_unleaded",
         "132.0",
         "4.0",
         "manual",
         "front_wheel_drive",
         "4.0",
         null,
         "compact",
         "sedan",
         "32",
         "25",
         "1851",
         "16110"
        ],
        [
         "7178",
         "dodge",
         "neon",
         "2005",
         "regular_unleaded",
         "132.0",
         "4.0",
         "manual",
         "front_wheel_drive",
         "4.0",
         null,
         "compact",
         "sedan",
         "32",
         "25",
         "1851",
         "13800"
        ],
        [
         "7179",
         "dodge",
         "neon",
         "2005",
         "premium_unleaded_(required)",
         "220.0",
         "4.0",
         "manual",
         "front_wheel_drive",
         "4.0",
         "factory_tuner,performance",
         "compact",
         "sedan",
         "28",
         "19",
         "1851",
         "20700"
        ],
        [
         "7180",
         "plymouth",
         "neon",
         "1999",
         "regular_unleaded",
         "132.0",
         "4.0",
         "manual",
         "front_wheel_drive",
         "2.0",
         null,
         "compact",
         "coupe",
         "36",
         "24",
         "535",
         "2000"
        ],
        [
         "7181",
         "plymouth",
         "neon",
         "1999",
         "regular_unleaded",
         "150.0",
         "4.0",
         "manual",
         "front_wheel_drive",
         "2.0",
         null,
         "compact",
         "coupe",
         "36",
         "24",
         "535",
         "2000"
        ],
        [
         "7182",
         "plymouth",
         "neon",
         "1999",
         "regular_unleaded",
         "132.0",
         "4.0",
         "manual",
         "front_wheel_drive",
         "4.0",
         null,
         "compact",
         "sedan",
         "36",
         "24",
         "535",
         "2000"
        ],
        [
         "7183",
         "plymouth",
         "neon",
         "1999",
         "regular_unleaded",
         "150.0",
         "4.0",
         "manual",
         "front_wheel_drive",
         "2.0",
         null,
         "compact",
         "coupe",
         "36",
         "24",
         "535",
         "2000"
        ],
        [
         "7184",
         "plymouth",
         "neon",
         "1999",
         "regular_unleaded",
         "132.0",
         "4.0",
         "manual",
         "front_wheel_drive",
         "4.0",
         null,
         "compact",
         "sedan",
         "36",
         "24",
         "535",
         "2000"
        ],
        [
         "7185",
         "plymouth",
         "neon",
         "1999",
         "regular_unleaded",
         "150.0",
         "4.0",
         "manual",
         "front_wheel_drive",
         "4.0",
         null,
         "compact",
         "sedan",
         "36",
         "24",
         "535",
         "2000"
        ],
        [
         "7186",
         "plymouth",
         "neon",
         "2000",
         "regular_unleaded",
         "132.0",
         "4.0",
         "manual",
         "front_wheel_drive",
         "4.0",
         null,
         "compact",
         "sedan",
         "31",
         "24",
         "535",
         "2000"
        ],
        [
         "7187",
         "plymouth",
         "neon",
         "2000",
         "regular_unleaded",
         "132.0",
         "4.0",
         "manual",
         "front_wheel_drive",
         "4.0",
         null,
         "compact",
         "sedan",
         "31",
         "24",
         "535",
         "2044"
        ],
        [
         "7188",
         "plymouth",
         "neon",
         "2001",
         "regular_unleaded",
         "132.0",
         "4.0",
         "manual",
         "front_wheel_drive",
         "4.0",
         null,
         "compact",
         "sedan",
         "30",
         "24",
         "535",
         "12715"
        ],
        [
         "7189",
         "volkswagen",
         "new_beetle",
         "2008",
         "regular_unleaded",
         "150.0",
         "5.0",
         "automatic",
         "front_wheel_drive",
         "2.0",
         "hatchback",
         "compact",
         "2dr_hatchback",
         "29",
         "20",
         "873",
         "20990"
        ],
        [
         "7190",
         "volkswagen",
         "new_beetle",
         "2008",
         "regular_unleaded",
         "150.0",
         "5.0",
         "automatic",
         "front_wheel_drive",
         "2.0",
         "hatchback",
         "compact",
         "2dr_hatchback",
         "29",
         "20",
         "873",
         "20525"
        ],
        [
         "7191",
         "volkswagen",
         "new_beetle",
         "2008",
         "regular_unleaded",
         "150.0",
         "5.0",
         "automatic",
         "front_wheel_drive",
         "2.0",
         "hatchback",
         "compact",
         "2dr_hatchback",
         "29",
         "20",
         "873",
         "20525"
        ],
        [
         "7192",
         "volkswagen",
         "new_beetle",
         "2008",
         "regular_unleaded",
         "150.0",
         "5.0",
         "automatic",
         "front_wheel_drive",
         "2.0",
         null,
         "compact",
         "convertible",
         "28",
         "20",
         "873",
         "24315"
        ],
        [
         "7193",
         "volkswagen",
         "new_beetle",
         "2008",
         "regular_unleaded",
         "150.0",
         "5.0",
         "manual",
         "front_wheel_drive",
         "2.0",
         "hatchback",
         "compact",
         "2dr_hatchback",
         "28",
         "20",
         "873",
         "17475"
        ],
        [
         "7194",
         "volkswagen",
         "new_beetle",
         "2008",
         "regular_unleaded",
         "150.0",
         "5.0",
         "automatic",
         "front_wheel_drive",
         "2.0",
         "hatchback",
         "compact",
         "2dr_hatchback",
         "29",
         "20",
         "873",
         "20990"
        ],
        [
         "7195",
         "volkswagen",
         "new_beetle",
         "2008",
         "regular_unleaded",
         "150.0",
         "5.0",
         "automatic",
         "front_wheel_drive",
         "2.0",
         "hatchback",
         "compact",
         "2dr_hatchback",
         "29",
         "20",
         "873",
         "18550"
        ],
        [
         "7196",
         "volkswagen",
         "new_beetle",
         "2008",
         "regular_unleaded",
         "150.0",
         "5.0",
         "automatic",
         "front_wheel_drive",
         "2.0",
         null,
         "compact",
         "convertible",
         "28",
         "20",
         "873",
         "24315"
        ],
        [
         "7197",
         "volkswagen",
         "new_beetle",
         "2008",
         "regular_unleaded",
         "150.0",
         "5.0",
         "automatic",
         "front_wheel_drive",
         "2.0",
         "hatchback",
         "compact",
         "2dr_hatchback",
         "29",
         "20",
         "873",
         "18550"
        ],
        [
         "7198",
         "volkswagen",
         "new_beetle",
         "2008",
         "regular_unleaded",
         "150.0",
         "5.0",
         "manual",
         "front_wheel_drive",
         "2.0",
         null,
         "compact",
         "convertible",
         "28",
         "20",
         "873",
         "23240"
        ],
        [
         "7199",
         "volkswagen",
         "new_beetle",
         "2008",
         "regular_unleaded",
         "150.0",
         "5.0",
         "automatic",
         "front_wheel_drive",
         "2.0",
         null,
         "compact",
         "convertible",
         "28",
         "20",
         "873",
         "25740"
        ]
       ],
       "shape": {
        "columns": 16,
        "rows": 2382
       }
      },
      "text/html": [
       "<div>\n",
       "<style scoped>\n",
       "    .dataframe tbody tr th:only-of-type {\n",
       "        vertical-align: middle;\n",
       "    }\n",
       "\n",
       "    .dataframe tbody tr th {\n",
       "        vertical-align: top;\n",
       "    }\n",
       "\n",
       "    .dataframe thead th {\n",
       "        text-align: right;\n",
       "    }\n",
       "</style>\n",
       "<table border=\"1\" class=\"dataframe\">\n",
       "  <thead>\n",
       "    <tr style=\"text-align: right;\">\n",
       "      <th></th>\n",
       "      <th>make</th>\n",
       "      <th>model</th>\n",
       "      <th>year</th>\n",
       "      <th>engine_fuel_type</th>\n",
       "      <th>engine_hp</th>\n",
       "      <th>engine_cylinders</th>\n",
       "      <th>transmission_type</th>\n",
       "      <th>driven_wheels</th>\n",
       "      <th>number_of_doors</th>\n",
       "      <th>market_category</th>\n",
       "      <th>vehicle_size</th>\n",
       "      <th>vehicle_style</th>\n",
       "      <th>highway_mpg</th>\n",
       "      <th>city_mpg</th>\n",
       "      <th>popularity</th>\n",
       "      <th>msrp</th>\n",
       "    </tr>\n",
       "  </thead>\n",
       "  <tbody>\n",
       "    <tr>\n",
       "      <th>7150</th>\n",
       "      <td>lincoln</td>\n",
       "      <td>navigator</td>\n",
       "      <td>2015</td>\n",
       "      <td>regular_unleaded</td>\n",
       "      <td>365.0</td>\n",
       "      <td>6.0</td>\n",
       "      <td>automatic</td>\n",
       "      <td>rear_wheel_drive</td>\n",
       "      <td>4.0</td>\n",
       "      <td>luxury</td>\n",
       "      <td>large</td>\n",
       "      <td>4dr_suv</td>\n",
       "      <td>20</td>\n",
       "      <td>15</td>\n",
       "      <td>61</td>\n",
       "      <td>63645</td>\n",
       "    </tr>\n",
       "    <tr>\n",
       "      <th>7151</th>\n",
       "      <td>lincoln</td>\n",
       "      <td>navigator</td>\n",
       "      <td>2016</td>\n",
       "      <td>regular_unleaded</td>\n",
       "      <td>380.0</td>\n",
       "      <td>6.0</td>\n",
       "      <td>automatic</td>\n",
       "      <td>rear_wheel_drive</td>\n",
       "      <td>4.0</td>\n",
       "      <td>luxury</td>\n",
       "      <td>large</td>\n",
       "      <td>4dr_suv</td>\n",
       "      <td>22</td>\n",
       "      <td>16</td>\n",
       "      <td>61</td>\n",
       "      <td>63195</td>\n",
       "    </tr>\n",
       "    <tr>\n",
       "      <th>7152</th>\n",
       "      <td>lincoln</td>\n",
       "      <td>navigator</td>\n",
       "      <td>2016</td>\n",
       "      <td>regular_unleaded</td>\n",
       "      <td>380.0</td>\n",
       "      <td>6.0</td>\n",
       "      <td>automatic</td>\n",
       "      <td>four_wheel_drive</td>\n",
       "      <td>4.0</td>\n",
       "      <td>luxury</td>\n",
       "      <td>large</td>\n",
       "      <td>4dr_suv</td>\n",
       "      <td>19</td>\n",
       "      <td>15</td>\n",
       "      <td>61</td>\n",
       "      <td>76650</td>\n",
       "    </tr>\n",
       "    <tr>\n",
       "      <th>7153</th>\n",
       "      <td>lincoln</td>\n",
       "      <td>navigator</td>\n",
       "      <td>2016</td>\n",
       "      <td>regular_unleaded</td>\n",
       "      <td>380.0</td>\n",
       "      <td>6.0</td>\n",
       "      <td>automatic</td>\n",
       "      <td>four_wheel_drive</td>\n",
       "      <td>4.0</td>\n",
       "      <td>luxury</td>\n",
       "      <td>large</td>\n",
       "      <td>4dr_suv</td>\n",
       "      <td>19</td>\n",
       "      <td>15</td>\n",
       "      <td>61</td>\n",
       "      <td>69135</td>\n",
       "    </tr>\n",
       "    <tr>\n",
       "      <th>7154</th>\n",
       "      <td>lincoln</td>\n",
       "      <td>navigator</td>\n",
       "      <td>2016</td>\n",
       "      <td>regular_unleaded</td>\n",
       "      <td>380.0</td>\n",
       "      <td>6.0</td>\n",
       "      <td>automatic</td>\n",
       "      <td>rear_wheel_drive</td>\n",
       "      <td>4.0</td>\n",
       "      <td>luxury</td>\n",
       "      <td>large</td>\n",
       "      <td>4dr_suv</td>\n",
       "      <td>20</td>\n",
       "      <td>15</td>\n",
       "      <td>61</td>\n",
       "      <td>65560</td>\n",
       "    </tr>\n",
       "    <tr>\n",
       "      <th>...</th>\n",
       "      <td>...</td>\n",
       "      <td>...</td>\n",
       "      <td>...</td>\n",
       "      <td>...</td>\n",
       "      <td>...</td>\n",
       "      <td>...</td>\n",
       "      <td>...</td>\n",
       "      <td>...</td>\n",
       "      <td>...</td>\n",
       "      <td>...</td>\n",
       "      <td>...</td>\n",
       "      <td>...</td>\n",
       "      <td>...</td>\n",
       "      <td>...</td>\n",
       "      <td>...</td>\n",
       "      <td>...</td>\n",
       "    </tr>\n",
       "    <tr>\n",
       "      <th>9527</th>\n",
       "      <td>chevrolet</td>\n",
       "      <td>silverado_1500</td>\n",
       "      <td>2015</td>\n",
       "      <td>flex-fuel_(unleaded/e85)</td>\n",
       "      <td>285.0</td>\n",
       "      <td>6.0</td>\n",
       "      <td>automatic</td>\n",
       "      <td>four_wheel_drive</td>\n",
       "      <td>4.0</td>\n",
       "      <td>flex_fuel</td>\n",
       "      <td>large</td>\n",
       "      <td>crew_cab_pickup</td>\n",
       "      <td>22</td>\n",
       "      <td>17</td>\n",
       "      <td>1385</td>\n",
       "      <td>37380</td>\n",
       "    </tr>\n",
       "    <tr>\n",
       "      <th>9528</th>\n",
       "      <td>chevrolet</td>\n",
       "      <td>silverado_1500</td>\n",
       "      <td>2015</td>\n",
       "      <td>regular_unleaded</td>\n",
       "      <td>355.0</td>\n",
       "      <td>8.0</td>\n",
       "      <td>automatic</td>\n",
       "      <td>rear_wheel_drive</td>\n",
       "      <td>4.0</td>\n",
       "      <td>NaN</td>\n",
       "      <td>large</td>\n",
       "      <td>extended_cab_pickup</td>\n",
       "      <td>23</td>\n",
       "      <td>16</td>\n",
       "      <td>1385</td>\n",
       "      <td>40100</td>\n",
       "    </tr>\n",
       "    <tr>\n",
       "      <th>9529</th>\n",
       "      <td>chevrolet</td>\n",
       "      <td>silverado_1500</td>\n",
       "      <td>2015</td>\n",
       "      <td>regular_unleaded</td>\n",
       "      <td>355.0</td>\n",
       "      <td>8.0</td>\n",
       "      <td>automatic</td>\n",
       "      <td>rear_wheel_drive</td>\n",
       "      <td>4.0</td>\n",
       "      <td>NaN</td>\n",
       "      <td>large</td>\n",
       "      <td>crew_cab_pickup</td>\n",
       "      <td>23</td>\n",
       "      <td>16</td>\n",
       "      <td>1385</td>\n",
       "      <td>42560</td>\n",
       "    </tr>\n",
       "    <tr>\n",
       "      <th>9530</th>\n",
       "      <td>chevrolet</td>\n",
       "      <td>silverado_1500</td>\n",
       "      <td>2015</td>\n",
       "      <td>regular_unleaded</td>\n",
       "      <td>355.0</td>\n",
       "      <td>8.0</td>\n",
       "      <td>automatic</td>\n",
       "      <td>rear_wheel_drive</td>\n",
       "      <td>4.0</td>\n",
       "      <td>NaN</td>\n",
       "      <td>large</td>\n",
       "      <td>crew_cab_pickup</td>\n",
       "      <td>23</td>\n",
       "      <td>16</td>\n",
       "      <td>1385</td>\n",
       "      <td>42860</td>\n",
       "    </tr>\n",
       "    <tr>\n",
       "      <th>9531</th>\n",
       "      <td>chevrolet</td>\n",
       "      <td>silverado_1500</td>\n",
       "      <td>2015</td>\n",
       "      <td>regular_unleaded</td>\n",
       "      <td>355.0</td>\n",
       "      <td>8.0</td>\n",
       "      <td>automatic</td>\n",
       "      <td>four_wheel_drive</td>\n",
       "      <td>4.0</td>\n",
       "      <td>NaN</td>\n",
       "      <td>large</td>\n",
       "      <td>crew_cab_pickup</td>\n",
       "      <td>22</td>\n",
       "      <td>16</td>\n",
       "      <td>1385</td>\n",
       "      <td>45120</td>\n",
       "    </tr>\n",
       "  </tbody>\n",
       "</table>\n",
       "<p>2382 rows × 16 columns</p>\n",
       "</div>"
      ],
      "text/plain": [
       "           make           model  year          engine_fuel_type  engine_hp  \\\n",
       "7150    lincoln       navigator  2015          regular_unleaded      365.0   \n",
       "7151    lincoln       navigator  2016          regular_unleaded      380.0   \n",
       "7152    lincoln       navigator  2016          regular_unleaded      380.0   \n",
       "7153    lincoln       navigator  2016          regular_unleaded      380.0   \n",
       "7154    lincoln       navigator  2016          regular_unleaded      380.0   \n",
       "...         ...             ...   ...                       ...        ...   \n",
       "9527  chevrolet  silverado_1500  2015  flex-fuel_(unleaded/e85)      285.0   \n",
       "9528  chevrolet  silverado_1500  2015          regular_unleaded      355.0   \n",
       "9529  chevrolet  silverado_1500  2015          regular_unleaded      355.0   \n",
       "9530  chevrolet  silverado_1500  2015          regular_unleaded      355.0   \n",
       "9531  chevrolet  silverado_1500  2015          regular_unleaded      355.0   \n",
       "\n",
       "      engine_cylinders transmission_type     driven_wheels  number_of_doors  \\\n",
       "7150               6.0         automatic  rear_wheel_drive              4.0   \n",
       "7151               6.0         automatic  rear_wheel_drive              4.0   \n",
       "7152               6.0         automatic  four_wheel_drive              4.0   \n",
       "7153               6.0         automatic  four_wheel_drive              4.0   \n",
       "7154               6.0         automatic  rear_wheel_drive              4.0   \n",
       "...                ...               ...               ...              ...   \n",
       "9527               6.0         automatic  four_wheel_drive              4.0   \n",
       "9528               8.0         automatic  rear_wheel_drive              4.0   \n",
       "9529               8.0         automatic  rear_wheel_drive              4.0   \n",
       "9530               8.0         automatic  rear_wheel_drive              4.0   \n",
       "9531               8.0         automatic  four_wheel_drive              4.0   \n",
       "\n",
       "     market_category vehicle_size        vehicle_style  highway_mpg  city_mpg  \\\n",
       "7150          luxury        large              4dr_suv           20        15   \n",
       "7151          luxury        large              4dr_suv           22        16   \n",
       "7152          luxury        large              4dr_suv           19        15   \n",
       "7153          luxury        large              4dr_suv           19        15   \n",
       "7154          luxury        large              4dr_suv           20        15   \n",
       "...              ...          ...                  ...          ...       ...   \n",
       "9527       flex_fuel        large      crew_cab_pickup           22        17   \n",
       "9528             NaN        large  extended_cab_pickup           23        16   \n",
       "9529             NaN        large      crew_cab_pickup           23        16   \n",
       "9530             NaN        large      crew_cab_pickup           23        16   \n",
       "9531             NaN        large      crew_cab_pickup           22        16   \n",
       "\n",
       "      popularity   msrp  \n",
       "7150          61  63645  \n",
       "7151          61  63195  \n",
       "7152          61  76650  \n",
       "7153          61  69135  \n",
       "7154          61  65560  \n",
       "...          ...    ...  \n",
       "9527        1385  37380  \n",
       "9528        1385  40100  \n",
       "9529        1385  42560  \n",
       "9530        1385  42860  \n",
       "9531        1385  45120  \n",
       "\n",
       "[2382 rows x 16 columns]"
      ]
     },
     "execution_count": 23,
     "metadata": {},
     "output_type": "execute_result"
    }
   ],
   "source": [
    "cars_val"
   ]
  },
  {
   "cell_type": "markdown",
   "id": "cf7fe8c1",
   "metadata": {},
   "source": [
    "The problem is that all BMW cars are in the validation dataset. So I need to shuffle the data to make sure that all cars are distributed in all datasets."
   ]
  },
  {
   "cell_type": "code",
   "execution_count": 24,
   "id": "ccb17e2f",
   "metadata": {},
   "outputs": [],
   "source": [
    "np.random.seed(42)  # To make it reproducible\n",
    "idx = np.arange(n_data)\n",
    "np.random.shuffle(idx)"
   ]
  },
  {
   "cell_type": "code",
   "execution_count": 25,
   "id": "500d7f30",
   "metadata": {},
   "outputs": [],
   "source": [
    "cars_train = cars.iloc[idx[:n_train]]\n",
    "cars_val = cars.iloc[idx[n_train:n_train + n_val]]\n",
    "cars_test = cars.iloc[idx[n_train + n_val:]]"
   ]
  },
  {
   "cell_type": "code",
   "execution_count": 26,
   "id": "908636ed",
   "metadata": {},
   "outputs": [
    {
     "data": {
      "application/vnd.microsoft.datawrangler.viewer.v0+json": {
       "columns": [
        {
         "name": "index",
         "rawType": "int64",
         "type": "integer"
        },
        {
         "name": "make",
         "rawType": "object",
         "type": "string"
        },
        {
         "name": "model",
         "rawType": "object",
         "type": "string"
        },
        {
         "name": "year",
         "rawType": "int64",
         "type": "integer"
        },
        {
         "name": "engine_fuel_type",
         "rawType": "object",
         "type": "unknown"
        },
        {
         "name": "engine_hp",
         "rawType": "float64",
         "type": "float"
        },
        {
         "name": "engine_cylinders",
         "rawType": "float64",
         "type": "float"
        },
        {
         "name": "transmission_type",
         "rawType": "object",
         "type": "string"
        },
        {
         "name": "driven_wheels",
         "rawType": "object",
         "type": "string"
        },
        {
         "name": "number_of_doors",
         "rawType": "float64",
         "type": "float"
        },
        {
         "name": "market_category",
         "rawType": "object",
         "type": "unknown"
        },
        {
         "name": "vehicle_size",
         "rawType": "object",
         "type": "string"
        },
        {
         "name": "vehicle_style",
         "rawType": "object",
         "type": "string"
        },
        {
         "name": "highway_mpg",
         "rawType": "int64",
         "type": "integer"
        },
        {
         "name": "city_mpg",
         "rawType": "int64",
         "type": "integer"
        },
        {
         "name": "popularity",
         "rawType": "int64",
         "type": "integer"
        },
        {
         "name": "msrp",
         "rawType": "int64",
         "type": "integer"
        }
       ],
       "ref": "5678fcd1-819e-4248-a213-637107e4429f",
       "rows": [
        [
         "3995",
         "gmc",
         "envoy_xl",
         "2005",
         "regular_unleaded",
         "275.0",
         "6.0",
         "automatic",
         "rear_wheel_drive",
         "4.0",
         null,
         "large",
         "4dr_suv",
         "18",
         "13",
         "549",
         "29695"
        ],
        [
         "7474",
         "volkswagen",
         "passat",
         "2016",
         "regular_unleaded",
         "170.0",
         "4.0",
         "automatic",
         "front_wheel_drive",
         "4.0",
         null,
         "midsize",
         "sedan",
         "38",
         "25",
         "873",
         "30495"
        ],
        [
         "7300",
         "honda",
         "odyssey",
         "2016",
         "regular_unleaded",
         "248.0",
         "6.0",
         "automatic",
         "front_wheel_drive",
         "4.0",
         null,
         "large",
         "passenger_minivan",
         "28",
         "19",
         "2202",
         "37650"
        ],
        [
         "3148",
         "chevrolet",
         "cruze",
         "2015",
         "regular_unleaded",
         "138.0",
         "4.0",
         "manual",
         "front_wheel_drive",
         "4.0",
         null,
         "midsize",
         "sedan",
         "36",
         "25",
         "1385",
         "16170"
        ],
        [
         "747",
         "volvo",
         "740",
         "1991",
         "regular_unleaded",
         "162.0",
         "4.0",
         "automatic",
         "rear_wheel_drive",
         "4.0",
         "luxury,performance",
         "midsize",
         "sedan",
         "20",
         "17",
         "870",
         "2000"
        ],
        [
         "4048",
         "suzuki",
         "equator",
         "2012",
         "regular_unleaded",
         "152.0",
         "4.0",
         "manual",
         "rear_wheel_drive",
         "4.0",
         null,
         "compact",
         "extended_cab_pickup",
         "23",
         "19",
         "481",
         "19299"
        ],
        [
         "4759",
         "ford",
         "flex",
         "2016",
         "premium_unleaded_(recommended)",
         "365.0",
         "6.0",
         "automatic",
         "all_wheel_drive",
         "4.0",
         "crossover",
         "large",
         "wagon",
         "21",
         "15",
         "5657",
         "42600"
        ],
        [
         "6423",
         "acura",
         "legend",
         "1994",
         "regular_unleaded",
         "230.0",
         "6.0",
         "manual",
         "front_wheel_drive",
         "2.0",
         "luxury,performance",
         "midsize",
         "coupe",
         "24",
         "16",
         "204",
         "2384"
        ],
        [
         "3819",
         "oldsmobile",
         "eighty-eight_royale",
         "1995",
         "regular_unleaded",
         "205.0",
         "6.0",
         "automatic",
         "front_wheel_drive",
         "4.0",
         null,
         "large",
         "sedan",
         "26",
         "17",
         "26",
         "2000"
        ],
        [
         "379",
         "mazda",
         "3",
         "2015",
         "regular_unleaded",
         "155.0",
         "4.0",
         "automatic",
         "front_wheel_drive",
         "4.0",
         null,
         "compact",
         "sedan",
         "41",
         "30",
         "586",
         "17995"
        ],
        [
         "11815",
         "toyota",
         "yaris",
         "2015",
         "regular_unleaded",
         "106.0",
         "4.0",
         "manual",
         "front_wheel_drive",
         "2.0",
         "hatchback",
         "compact",
         "2dr_hatchback",
         "37",
         "30",
         "2031",
         "14845"
        ],
        [
         "1688",
         "mazda",
         "b-series_pickup",
         "1998",
         "regular_unleaded",
         "150.0",
         "6.0",
         "manual",
         "four_wheel_drive",
         "2.0",
         null,
         "compact",
         "regular_cab_pickup",
         "20",
         "15",
         "586",
         "2930"
        ],
        [
         "10854",
         "nissan",
         "truck",
         "1995",
         "regular_unleaded",
         "134.0",
         "4.0",
         "manual",
         "four_wheel_drive",
         "2.0",
         null,
         "compact",
         "regular_cab_pickup",
         "19",
         "16",
         "2009",
         "2130"
        ],
        [
         "6747",
         "mazda",
         "mazdaspeed_6",
         "2007",
         "premium_unleaded_(required)",
         "274.0",
         "4.0",
         "manual",
         "all_wheel_drive",
         "4.0",
         "factory_tuner,performance",
         "midsize",
         "sedan",
         "23",
         "17",
         "586",
         "27995"
        ],
        [
         "1427",
         "kia",
         "amanti",
         "2008",
         "regular_unleaded",
         "264.0",
         "6.0",
         "automatic",
         "front_wheel_drive",
         "4.0",
         null,
         "midsize",
         "sedan",
         "24",
         "17",
         "1720",
         "25495"
        ],
        [
         "5331",
         "volkswagen",
         "gli",
         "2009",
         "premium_unleaded_(recommended)",
         "200.0",
         "4.0",
         "manual",
         "front_wheel_drive",
         "4.0",
         "performance",
         "compact",
         "sedan",
         "31",
         "21",
         "873",
         "24770"
        ],
        [
         "7405",
         "chrysler",
         "pacifica",
         "2008",
         "regular_unleaded",
         "253.0",
         "6.0",
         "automatic",
         "all_wheel_drive",
         "4.0",
         "crossover",
         "large",
         "wagon",
         "22",
         "14",
         "1013",
         "27225"
        ],
        [
         "1418",
         "nissan",
         "altima",
         "2016",
         "regular_unleaded",
         "270.0",
         "6.0",
         "automatic",
         "front_wheel_drive",
         "4.0",
         "performance",
         "midsize",
         "sedan",
         "32",
         "22",
         "2009",
         "32690"
        ],
        [
         "8653",
         "acura",
         "rsx",
         "2005",
         "premium_unleaded_(required)",
         "210.0",
         "4.0",
         "manual",
         "front_wheel_drive",
         "2.0",
         "hatchback,factory_tuner,luxury,performance",
         "compact",
         "2dr_hatchback",
         "28",
         "20",
         "204",
         "23670"
        ],
        [
         "8414",
         "lexus",
         "rc_350",
         "2017",
         "premium_unleaded_(required)",
         "306.0",
         "6.0",
         "automatic",
         "rear_wheel_drive",
         "2.0",
         "luxury,performance",
         "midsize",
         "coupe",
         "28",
         "19",
         "454",
         "43010"
        ],
        [
         "1634",
         "chevrolet",
         "aveo",
         "2009",
         "regular_unleaded",
         "107.0",
         "4.0",
         "manual",
         "front_wheel_drive",
         "4.0",
         "hatchback",
         "compact",
         "4dr_hatchback",
         "34",
         "27",
         "1385",
         "14100"
        ],
        [
         "744",
         "volvo",
         "740",
         "1991",
         "regular_unleaded",
         "162.0",
         "4.0",
         "automatic",
         "rear_wheel_drive",
         "4.0",
         "luxury,performance",
         "midsize",
         "wagon",
         "20",
         "17",
         "870",
         "2000"
        ],
        [
         "1121",
         "audi",
         "a7",
         "2015",
         "premium_unleaded_(required)",
         "310.0",
         "6.0",
         "automatic",
         "all_wheel_drive",
         "4.0",
         "luxury,performance",
         "large",
         "sedan",
         "28",
         "18",
         "3105",
         "65900"
        ],
        [
         "4202",
         "ford",
         "escape",
         "2017",
         "regular_unleaded",
         "168.0",
         "4.0",
         "automatic",
         "front_wheel_drive",
         "4.0",
         "crossover",
         "compact",
         "4dr_suv",
         "29",
         "21",
         "5657",
         "23600"
        ],
        [
         "4794",
         "ford",
         "focus",
         "2017",
         "flex-fuel_(unleaded/e85)",
         "160.0",
         "4.0",
         "manual",
         "front_wheel_drive",
         "4.0",
         "flex_fuel",
         "compact",
         "sedan",
         "36",
         "26",
         "5657",
         "16775"
        ],
        [
         "700",
         "maybach",
         "62",
         "2011",
         "premium_unleaded_(required)",
         "620.0",
         "12.0",
         "automatic",
         "rear_wheel_drive",
         "4.0",
         "exotic,luxury,high-performance",
         "large",
         "sedan",
         "16",
         "10",
         "67",
         "463000"
        ],
        [
         "8498",
         "honda",
         "ridgeline",
         "2017",
         "regular_unleaded",
         "280.0",
         "6.0",
         "automatic",
         "all_wheel_drive",
         "4.0",
         null,
         "large",
         "crew_cab_pickup",
         "25",
         "18",
         "2202",
         "37730"
        ],
        [
         "3724",
         "ford",
         "e-series_van",
         "2012",
         "flex-fuel_(unleaded/e85)",
         "225.0",
         "8.0",
         "automatic",
         "rear_wheel_drive",
         "3.0",
         "flex_fuel",
         "large",
         "cargo_van",
         "17",
         "13",
         "5657",
         "27840"
        ],
        [
         "7015",
         "toyota",
         "mr2",
         "1993",
         "regular_unleaded",
         "200.0",
         "4.0",
         "manual",
         "rear_wheel_drive",
         "2.0",
         "performance",
         "compact",
         "coupe",
         "25",
         "18",
         "2031",
         "2078"
        ],
        [
         "7536",
         "nissan",
         "pathfinder",
         "2017",
         "regular_unleaded",
         "284.0",
         "6.0",
         "automatic",
         "front_wheel_drive",
         "4.0",
         "crossover",
         "large",
         "4dr_suv",
         "27",
         "20",
         "2009",
         "36100"
        ],
        [
         "3755",
         "ford",
         "e-series_wagon",
         "2014",
         "flex-fuel_(unleaded/e85)",
         "225.0",
         "8.0",
         "automatic",
         "rear_wheel_drive",
         "3.0",
         "flex_fuel",
         "midsize",
         "passenger_van",
         "16",
         "13",
         "5657",
         "30230"
        ],
        [
         "5859",
         "subaru",
         "impreza_wrx",
         "2014",
         "premium_unleaded_(required)",
         "305.0",
         "4.0",
         "manual",
         "all_wheel_drive",
         "4.0",
         "factory_tuner,high-performance",
         "compact",
         "sedan",
         "23",
         "17",
         "640",
         "37845"
        ],
        [
         "3379",
         "mazda",
         "cx-5",
         "2016",
         "regular_unleaded",
         "184.0",
         "4.0",
         "automatic",
         "all_wheel_drive",
         "4.0",
         "crossover",
         "midsize",
         "4dr_suv",
         "30",
         "24",
         "586",
         "26515"
        ],
        [
         "10479",
         "acura",
         "tl",
         "2013",
         "premium_unleaded_(recommended)",
         "280.0",
         "6.0",
         "automatic",
         "front_wheel_drive",
         "4.0",
         "luxury",
         "midsize",
         "sedan",
         "29",
         "20",
         "204",
         "35905"
        ],
        [
         "5199",
         "pontiac",
         "g6",
         "2009",
         "flex-fuel_(unleaded/e85)",
         "219.0",
         "6.0",
         "automatic",
         "front_wheel_drive",
         "2.0",
         "flex_fuel",
         "midsize",
         "coupe",
         "26",
         "17",
         "210",
         "24610"
        ],
        [
         "3692",
         "mercedes-benz",
         "e-class",
         "2016",
         "premium_unleaded_(required)",
         "302.0",
         "6.0",
         "automatic",
         "rear_wheel_drive",
         "4.0",
         "luxury,performance",
         "midsize",
         "sedan",
         "29",
         "20",
         "617",
         "53100"
        ],
        [
         "4374",
         "ford",
         "explorer_sport",
         "2001",
         "regular_unleaded",
         "203.0",
         "6.0",
         "manual",
         "rear_wheel_drive",
         "2.0",
         null,
         "midsize",
         "2dr_suv",
         "20",
         "16",
         "5657",
         "21035"
        ],
        [
         "6902",
         "lincoln",
         "mkz",
         "2016",
         "regular_unleaded",
         "231.0",
         "4.0",
         "automatic",
         "all_wheel_drive",
         "4.0",
         "luxury",
         "midsize",
         "sedan",
         "31",
         "22",
         "61",
         "37080"
        ],
        [
         "3238",
         "cadillac",
         "cts_wagon",
         "2014",
         "regular_unleaded",
         "270.0",
         "6.0",
         "automatic",
         "all_wheel_drive",
         "4.0",
         "luxury",
         "midsize",
         "wagon",
         "26",
         "18",
         "1624",
         "44095"
        ],
        [
         "10811",
         "mazda",
         "tribute",
         "2009",
         "regular_unleaded",
         "240.0",
         "6.0",
         "automatic",
         "front_wheel_drive",
         "4.0",
         "crossover",
         "compact",
         "4dr_suv",
         "26",
         "18",
         "586",
         "23055"
        ],
        [
         "8522",
         "kia",
         "rio",
         "2016",
         "regular_unleaded",
         "138.0",
         "4.0",
         "automatic",
         "front_wheel_drive",
         "4.0",
         "hatchback",
         "compact",
         "4dr_hatchback",
         "37",
         "27",
         "1720",
         "17905"
        ],
        [
         "5654",
         "volkswagen",
         "gti",
         "2013",
         "premium_unleaded_(recommended)",
         "200.0",
         "4.0",
         "automated_manual",
         "front_wheel_drive",
         "2.0",
         "hatchback,performance",
         "compact",
         "2dr_hatchback",
         "33",
         "24",
         "873",
         "31495"
        ],
        [
         "9538",
         "chevrolet",
         "silverado_1500",
         "2015",
         "flex-fuel_(unleaded/e85)",
         "285.0",
         "6.0",
         "automatic",
         "rear_wheel_drive",
         "2.0",
         "flex_fuel",
         "large",
         "regular_cab_pickup",
         "24",
         "18",
         "1385",
         "26105"
        ],
        [
         "5306",
         "mercedes-benz",
         "glc-class",
         "2016",
         "premium_unleaded_(required)",
         "241.0",
         "4.0",
         "automatic",
         "rear_wheel_drive",
         "4.0",
         "crossover,luxury",
         "midsize",
         "4dr_suv",
         "28",
         "22",
         "617",
         "38950"
        ],
        [
         "5910",
         "honda",
         "insight",
         "2013",
         "regular_unleaded",
         "98.0",
         "4.0",
         "automatic",
         "front_wheel_drive",
         "4.0",
         "hatchback,hybrid",
         "compact",
         "4dr_hatchback",
         "44",
         "41",
         "2202",
         "18600"
        ],
        [
         "8332",
         "ford",
         "ranger",
         "2009",
         "regular_unleaded",
         "207.0",
         "6.0",
         "manual",
         "four_wheel_drive",
         "2.0",
         null,
         "compact",
         "extended_cab_pickup",
         "19",
         "15",
         "5657",
         "22305"
        ],
        [
         "3946",
         "buick",
         "encore",
         "2016",
         "regular_unleaded",
         "138.0",
         "4.0",
         "automatic",
         "front_wheel_drive",
         "4.0",
         "crossover",
         "compact",
         "4dr_suv",
         "33",
         "25",
         "155",
         "29785"
        ],
        [
         "9168",
         "ford",
         "shelby_gt350",
         "2015",
         "premium_unleaded_(recommended)",
         "526.0",
         "8.0",
         "manual",
         "rear_wheel_drive",
         "2.0",
         "factory_tuner,high-performance",
         "midsize",
         "coupe",
         "21",
         "14",
         "5657",
         "61295"
        ],
        [
         "7821",
         "audi",
         "q5",
         "2016",
         "diesel",
         "240.0",
         "6.0",
         "automatic",
         "all_wheel_drive",
         "4.0",
         "crossover,luxury,diesel",
         "midsize",
         "4dr_suv",
         "31",
         "24",
         "3105",
         "55600"
        ],
        [
         "4885",
         "kia",
         "forte",
         "2017",
         "regular_unleaded",
         "164.0",
         "4.0",
         "automatic",
         "front_wheel_drive",
         "4.0",
         "hatchback",
         "compact",
         "4dr_hatchback",
         "34",
         "25",
         "1720",
         "21990"
        ]
       ],
       "shape": {
        "columns": 16,
        "rows": 7150
       }
      },
      "text/html": [
       "<div>\n",
       "<style scoped>\n",
       "    .dataframe tbody tr th:only-of-type {\n",
       "        vertical-align: middle;\n",
       "    }\n",
       "\n",
       "    .dataframe tbody tr th {\n",
       "        vertical-align: top;\n",
       "    }\n",
       "\n",
       "    .dataframe thead th {\n",
       "        text-align: right;\n",
       "    }\n",
       "</style>\n",
       "<table border=\"1\" class=\"dataframe\">\n",
       "  <thead>\n",
       "    <tr style=\"text-align: right;\">\n",
       "      <th></th>\n",
       "      <th>make</th>\n",
       "      <th>model</th>\n",
       "      <th>year</th>\n",
       "      <th>engine_fuel_type</th>\n",
       "      <th>engine_hp</th>\n",
       "      <th>engine_cylinders</th>\n",
       "      <th>transmission_type</th>\n",
       "      <th>driven_wheels</th>\n",
       "      <th>number_of_doors</th>\n",
       "      <th>market_category</th>\n",
       "      <th>vehicle_size</th>\n",
       "      <th>vehicle_style</th>\n",
       "      <th>highway_mpg</th>\n",
       "      <th>city_mpg</th>\n",
       "      <th>popularity</th>\n",
       "      <th>msrp</th>\n",
       "    </tr>\n",
       "  </thead>\n",
       "  <tbody>\n",
       "    <tr>\n",
       "      <th>3995</th>\n",
       "      <td>gmc</td>\n",
       "      <td>envoy_xl</td>\n",
       "      <td>2005</td>\n",
       "      <td>regular_unleaded</td>\n",
       "      <td>275.0</td>\n",
       "      <td>6.0</td>\n",
       "      <td>automatic</td>\n",
       "      <td>rear_wheel_drive</td>\n",
       "      <td>4.0</td>\n",
       "      <td>NaN</td>\n",
       "      <td>large</td>\n",
       "      <td>4dr_suv</td>\n",
       "      <td>18</td>\n",
       "      <td>13</td>\n",
       "      <td>549</td>\n",
       "      <td>29695</td>\n",
       "    </tr>\n",
       "    <tr>\n",
       "      <th>7474</th>\n",
       "      <td>volkswagen</td>\n",
       "      <td>passat</td>\n",
       "      <td>2016</td>\n",
       "      <td>regular_unleaded</td>\n",
       "      <td>170.0</td>\n",
       "      <td>4.0</td>\n",
       "      <td>automatic</td>\n",
       "      <td>front_wheel_drive</td>\n",
       "      <td>4.0</td>\n",
       "      <td>NaN</td>\n",
       "      <td>midsize</td>\n",
       "      <td>sedan</td>\n",
       "      <td>38</td>\n",
       "      <td>25</td>\n",
       "      <td>873</td>\n",
       "      <td>30495</td>\n",
       "    </tr>\n",
       "    <tr>\n",
       "      <th>7300</th>\n",
       "      <td>honda</td>\n",
       "      <td>odyssey</td>\n",
       "      <td>2016</td>\n",
       "      <td>regular_unleaded</td>\n",
       "      <td>248.0</td>\n",
       "      <td>6.0</td>\n",
       "      <td>automatic</td>\n",
       "      <td>front_wheel_drive</td>\n",
       "      <td>4.0</td>\n",
       "      <td>NaN</td>\n",
       "      <td>large</td>\n",
       "      <td>passenger_minivan</td>\n",
       "      <td>28</td>\n",
       "      <td>19</td>\n",
       "      <td>2202</td>\n",
       "      <td>37650</td>\n",
       "    </tr>\n",
       "    <tr>\n",
       "      <th>3148</th>\n",
       "      <td>chevrolet</td>\n",
       "      <td>cruze</td>\n",
       "      <td>2015</td>\n",
       "      <td>regular_unleaded</td>\n",
       "      <td>138.0</td>\n",
       "      <td>4.0</td>\n",
       "      <td>manual</td>\n",
       "      <td>front_wheel_drive</td>\n",
       "      <td>4.0</td>\n",
       "      <td>NaN</td>\n",
       "      <td>midsize</td>\n",
       "      <td>sedan</td>\n",
       "      <td>36</td>\n",
       "      <td>25</td>\n",
       "      <td>1385</td>\n",
       "      <td>16170</td>\n",
       "    </tr>\n",
       "    <tr>\n",
       "      <th>747</th>\n",
       "      <td>volvo</td>\n",
       "      <td>740</td>\n",
       "      <td>1991</td>\n",
       "      <td>regular_unleaded</td>\n",
       "      <td>162.0</td>\n",
       "      <td>4.0</td>\n",
       "      <td>automatic</td>\n",
       "      <td>rear_wheel_drive</td>\n",
       "      <td>4.0</td>\n",
       "      <td>luxury,performance</td>\n",
       "      <td>midsize</td>\n",
       "      <td>sedan</td>\n",
       "      <td>20</td>\n",
       "      <td>17</td>\n",
       "      <td>870</td>\n",
       "      <td>2000</td>\n",
       "    </tr>\n",
       "    <tr>\n",
       "      <th>...</th>\n",
       "      <td>...</td>\n",
       "      <td>...</td>\n",
       "      <td>...</td>\n",
       "      <td>...</td>\n",
       "      <td>...</td>\n",
       "      <td>...</td>\n",
       "      <td>...</td>\n",
       "      <td>...</td>\n",
       "      <td>...</td>\n",
       "      <td>...</td>\n",
       "      <td>...</td>\n",
       "      <td>...</td>\n",
       "      <td>...</td>\n",
       "      <td>...</td>\n",
       "      <td>...</td>\n",
       "      <td>...</td>\n",
       "    </tr>\n",
       "    <tr>\n",
       "      <th>10845</th>\n",
       "      <td>mazda</td>\n",
       "      <td>truck</td>\n",
       "      <td>2003</td>\n",
       "      <td>regular_unleaded</td>\n",
       "      <td>207.0</td>\n",
       "      <td>6.0</td>\n",
       "      <td>manual</td>\n",
       "      <td>four_wheel_drive</td>\n",
       "      <td>2.0</td>\n",
       "      <td>NaN</td>\n",
       "      <td>compact</td>\n",
       "      <td>extended_cab_pickup</td>\n",
       "      <td>17</td>\n",
       "      <td>14</td>\n",
       "      <td>586</td>\n",
       "      <td>19975</td>\n",
       "    </tr>\n",
       "    <tr>\n",
       "      <th>4861</th>\n",
       "      <td>kia</td>\n",
       "      <td>forte</td>\n",
       "      <td>2015</td>\n",
       "      <td>regular_unleaded</td>\n",
       "      <td>201.0</td>\n",
       "      <td>4.0</td>\n",
       "      <td>manual</td>\n",
       "      <td>front_wheel_drive</td>\n",
       "      <td>4.0</td>\n",
       "      <td>hatchback,performance</td>\n",
       "      <td>compact</td>\n",
       "      <td>4dr_hatchback</td>\n",
       "      <td>29</td>\n",
       "      <td>21</td>\n",
       "      <td>1720</td>\n",
       "      <td>20890</td>\n",
       "    </tr>\n",
       "    <tr>\n",
       "      <th>2334</th>\n",
       "      <td>dodge</td>\n",
       "      <td>caravan</td>\n",
       "      <td>2006</td>\n",
       "      <td>regular_unleaded</td>\n",
       "      <td>150.0</td>\n",
       "      <td>4.0</td>\n",
       "      <td>automatic</td>\n",
       "      <td>front_wheel_drive</td>\n",
       "      <td>4.0</td>\n",
       "      <td>flex_fuel</td>\n",
       "      <td>large</td>\n",
       "      <td>passenger_minivan</td>\n",
       "      <td>24</td>\n",
       "      <td>17</td>\n",
       "      <td>1851</td>\n",
       "      <td>18630</td>\n",
       "    </tr>\n",
       "    <tr>\n",
       "      <th>8651</th>\n",
       "      <td>acura</td>\n",
       "      <td>rsx</td>\n",
       "      <td>2005</td>\n",
       "      <td>regular_unleaded</td>\n",
       "      <td>160.0</td>\n",
       "      <td>4.0</td>\n",
       "      <td>automatic</td>\n",
       "      <td>front_wheel_drive</td>\n",
       "      <td>2.0</td>\n",
       "      <td>hatchback,luxury,performance</td>\n",
       "      <td>compact</td>\n",
       "      <td>2dr_hatchback</td>\n",
       "      <td>31</td>\n",
       "      <td>22</td>\n",
       "      <td>204</td>\n",
       "      <td>21175</td>\n",
       "    </tr>\n",
       "    <tr>\n",
       "      <th>5246</th>\n",
       "      <td>hyundai</td>\n",
       "      <td>genesis_coupe</td>\n",
       "      <td>2014</td>\n",
       "      <td>premium_unleaded_(recommended)</td>\n",
       "      <td>274.0</td>\n",
       "      <td>4.0</td>\n",
       "      <td>automatic</td>\n",
       "      <td>rear_wheel_drive</td>\n",
       "      <td>2.0</td>\n",
       "      <td>performance</td>\n",
       "      <td>midsize</td>\n",
       "      <td>coupe</td>\n",
       "      <td>27</td>\n",
       "      <td>17</td>\n",
       "      <td>1439</td>\n",
       "      <td>29300</td>\n",
       "    </tr>\n",
       "  </tbody>\n",
       "</table>\n",
       "<p>7150 rows × 16 columns</p>\n",
       "</div>"
      ],
      "text/plain": [
       "             make          model  year                engine_fuel_type  \\\n",
       "3995          gmc       envoy_xl  2005                regular_unleaded   \n",
       "7474   volkswagen         passat  2016                regular_unleaded   \n",
       "7300        honda        odyssey  2016                regular_unleaded   \n",
       "3148    chevrolet          cruze  2015                regular_unleaded   \n",
       "747         volvo            740  1991                regular_unleaded   \n",
       "...           ...            ...   ...                             ...   \n",
       "10845       mazda          truck  2003                regular_unleaded   \n",
       "4861          kia          forte  2015                regular_unleaded   \n",
       "2334        dodge        caravan  2006                regular_unleaded   \n",
       "8651        acura            rsx  2005                regular_unleaded   \n",
       "5246      hyundai  genesis_coupe  2014  premium_unleaded_(recommended)   \n",
       "\n",
       "       engine_hp  engine_cylinders transmission_type      driven_wheels  \\\n",
       "3995       275.0               6.0         automatic   rear_wheel_drive   \n",
       "7474       170.0               4.0         automatic  front_wheel_drive   \n",
       "7300       248.0               6.0         automatic  front_wheel_drive   \n",
       "3148       138.0               4.0            manual  front_wheel_drive   \n",
       "747        162.0               4.0         automatic   rear_wheel_drive   \n",
       "...          ...               ...               ...                ...   \n",
       "10845      207.0               6.0            manual   four_wheel_drive   \n",
       "4861       201.0               4.0            manual  front_wheel_drive   \n",
       "2334       150.0               4.0         automatic  front_wheel_drive   \n",
       "8651       160.0               4.0         automatic  front_wheel_drive   \n",
       "5246       274.0               4.0         automatic   rear_wheel_drive   \n",
       "\n",
       "       number_of_doors               market_category vehicle_size  \\\n",
       "3995               4.0                           NaN        large   \n",
       "7474               4.0                           NaN      midsize   \n",
       "7300               4.0                           NaN        large   \n",
       "3148               4.0                           NaN      midsize   \n",
       "747                4.0            luxury,performance      midsize   \n",
       "...                ...                           ...          ...   \n",
       "10845              2.0                           NaN      compact   \n",
       "4861               4.0         hatchback,performance      compact   \n",
       "2334               4.0                     flex_fuel        large   \n",
       "8651               2.0  hatchback,luxury,performance      compact   \n",
       "5246               2.0                   performance      midsize   \n",
       "\n",
       "             vehicle_style  highway_mpg  city_mpg  popularity   msrp  \n",
       "3995               4dr_suv           18        13         549  29695  \n",
       "7474                 sedan           38        25         873  30495  \n",
       "7300     passenger_minivan           28        19        2202  37650  \n",
       "3148                 sedan           36        25        1385  16170  \n",
       "747                  sedan           20        17         870   2000  \n",
       "...                    ...          ...       ...         ...    ...  \n",
       "10845  extended_cab_pickup           17        14         586  19975  \n",
       "4861         4dr_hatchback           29        21        1720  20890  \n",
       "2334     passenger_minivan           24        17        1851  18630  \n",
       "8651         2dr_hatchback           31        22         204  21175  \n",
       "5246                 coupe           27        17        1439  29300  \n",
       "\n",
       "[7150 rows x 16 columns]"
      ]
     },
     "execution_count": 26,
     "metadata": {},
     "output_type": "execute_result"
    }
   ],
   "source": [
    "cars_train"
   ]
  },
  {
   "cell_type": "markdown",
   "id": "0cad079c",
   "metadata": {},
   "source": [
    "Now, the data is shuffled. Let's have a look at the length of datasets. "
   ]
  },
  {
   "cell_type": "code",
   "execution_count": 27,
   "id": "067a0e52",
   "metadata": {},
   "outputs": [
    {
     "data": {
      "text/plain": [
       "(7150, 2382, 2382)"
      ]
     },
     "execution_count": 27,
     "metadata": {},
     "output_type": "execute_result"
    }
   ],
   "source": [
    "len(cars_train), len(cars_val), len(cars_test)"
   ]
  },
  {
   "cell_type": "code",
   "execution_count": 28,
   "id": "9e66b294",
   "metadata": {},
   "outputs": [],
   "source": [
    "cars_train = cars_train.reset_index(drop=True)\n",
    "cars_val = cars_val.reset_index(drop=True)\n",
    "cars_test = cars_test.reset_index(drop=True)"
   ]
  },
  {
   "cell_type": "code",
   "execution_count": 29,
   "id": "e3f6c8e4",
   "metadata": {},
   "outputs": [
    {
     "data": {
      "application/vnd.microsoft.datawrangler.viewer.v0+json": {
       "columns": [
        {
         "name": "index",
         "rawType": "int64",
         "type": "integer"
        },
        {
         "name": "msrp",
         "rawType": "int64",
         "type": "integer"
        }
       ],
       "ref": "98d2ea98-4d52-453f-8a16-57921b985cc9",
       "rows": [
        [
         "0",
         "29695"
        ],
        [
         "1",
         "30495"
        ],
        [
         "2",
         "37650"
        ],
        [
         "3",
         "16170"
        ],
        [
         "4",
         "2000"
        ],
        [
         "5",
         "19299"
        ],
        [
         "6",
         "42600"
        ],
        [
         "7",
         "2384"
        ],
        [
         "8",
         "2000"
        ],
        [
         "9",
         "17995"
        ],
        [
         "10",
         "14845"
        ],
        [
         "11",
         "2930"
        ],
        [
         "12",
         "2130"
        ],
        [
         "13",
         "27995"
        ],
        [
         "14",
         "25495"
        ],
        [
         "15",
         "24770"
        ],
        [
         "16",
         "27225"
        ],
        [
         "17",
         "32690"
        ],
        [
         "18",
         "23670"
        ],
        [
         "19",
         "43010"
        ],
        [
         "20",
         "14100"
        ],
        [
         "21",
         "2000"
        ],
        [
         "22",
         "65900"
        ],
        [
         "23",
         "23600"
        ],
        [
         "24",
         "16775"
        ],
        [
         "25",
         "463000"
        ],
        [
         "26",
         "37730"
        ],
        [
         "27",
         "27840"
        ],
        [
         "28",
         "2078"
        ],
        [
         "29",
         "36100"
        ],
        [
         "30",
         "30230"
        ],
        [
         "31",
         "37845"
        ],
        [
         "32",
         "26515"
        ],
        [
         "33",
         "35905"
        ],
        [
         "34",
         "24610"
        ],
        [
         "35",
         "53100"
        ],
        [
         "36",
         "21035"
        ],
        [
         "37",
         "37080"
        ],
        [
         "38",
         "44095"
        ],
        [
         "39",
         "23055"
        ],
        [
         "40",
         "17905"
        ],
        [
         "41",
         "31495"
        ],
        [
         "42",
         "26105"
        ],
        [
         "43",
         "38950"
        ],
        [
         "44",
         "18600"
        ],
        [
         "45",
         "22305"
        ],
        [
         "46",
         "29785"
        ],
        [
         "47",
         "61295"
        ],
        [
         "48",
         "55600"
        ],
        [
         "49",
         "21990"
        ]
       ],
       "shape": {
        "columns": 1,
        "rows": 7150
       }
      },
      "text/plain": [
       "0       29695\n",
       "1       30495\n",
       "2       37650\n",
       "3       16170\n",
       "4        2000\n",
       "        ...  \n",
       "7145    19975\n",
       "7146    20890\n",
       "7147    18630\n",
       "7148    21175\n",
       "7149    29300\n",
       "Name: msrp, Length: 7150, dtype: int64"
      ]
     },
     "execution_count": 29,
     "metadata": {},
     "output_type": "execute_result"
    }
   ],
   "source": [
    "cars_train.msrp"
   ]
  },
  {
   "cell_type": "code",
   "execution_count": 30,
   "id": "93e8732c",
   "metadata": {},
   "outputs": [],
   "source": [
    "y_train = np.log1p(cars_train.msrp.values)   # Let's make sure we apply log transformation to the target variable.\n",
    "y_val = np.log1p(cars_val.msrp.values)\n",
    "y_test = np.log1p(cars_test.msrp.values)\n"
   ]
  },
  {
   "cell_type": "code",
   "execution_count": 31,
   "id": "73ebc507",
   "metadata": {},
   "outputs": [],
   "source": [
    "# Let's drop the msrp column from the feature set.\n",
    "del cars_train['msrp']\n",
    "del cars_val['msrp']\n",
    "del cars_test['msrp']"
   ]
  },
  {
   "cell_type": "code",
   "execution_count": 32,
   "id": "980fa8e7",
   "metadata": {},
   "outputs": [
    {
     "data": {
      "text/plain": [
       "(7150, 2382, 2382)"
      ]
     },
     "execution_count": 32,
     "metadata": {},
     "output_type": "execute_result"
    }
   ],
   "source": [
    "len(y_train), len(y_val), len(y_test)"
   ]
  },
  {
   "cell_type": "markdown",
   "id": "0244a8de",
   "metadata": {},
   "source": [
    "## Training a linear regression model"
   ]
  },
  {
   "cell_type": "markdown",
   "id": "b6bc5cc0",
   "metadata": {},
   "source": [
    "Linear regression is a very simple approach for supervised learning and a useful tool for predicting a quantitative response. The least squares approach is most commonly used to fit this model. \n",
    "\n",
    "w : the bias term or intercept tells us the baseline, that is how much a car costs if we don't know anything about the car. "
   ]
  },
  {
   "cell_type": "code",
   "execution_count": 33,
   "id": "7cd84c8e",
   "metadata": {},
   "outputs": [],
   "source": [
    "def train_linear_regression(X, y):\n",
    "    pass"
   ]
  },
  {
   "cell_type": "code",
   "execution_count": 34,
   "id": "f76081a8",
   "metadata": {},
   "outputs": [
    {
     "data": {
      "text/plain": [
       "array([[ 148,   24, 1385],\n",
       "       [ 132,   25, 2031],\n",
       "       [ 453,   11,   86],\n",
       "       [ 158,   24,  185],\n",
       "       [ 172,   25,  201],\n",
       "       [ 413,   11,   86],\n",
       "       [  38,   54,  185],\n",
       "       [ 142,   25,  431],\n",
       "       [ 453,   31,   86]])"
      ]
     },
     "execution_count": 34,
     "metadata": {},
     "output_type": "execute_result"
    }
   ],
   "source": [
    "X = [\n",
    "    [148, 24, 1385],\n",
    "    [132, 25, 2031],\n",
    "    [453, 11, 86],\n",
    "    [158, 24, 185],\n",
    "    [172, 25, 201],\n",
    "    [413, 11, 86],\n",
    "    [38,  54, 185],\n",
    "    [142, 25, 431],\n",
    "    [453, 31, 86],\n",
    "]\n",
    "X = np.array(X)\n",
    "X"
   ]
  },
  {
   "cell_type": "code",
   "execution_count": 35,
   "id": "d5433947",
   "metadata": {},
   "outputs": [],
   "source": [
    "y = [10000, 20000, 15000, 20050, 10000, 20000, 15000, 25000, 12000]"
   ]
  },
  {
   "cell_type": "code",
   "execution_count": null,
   "id": "5b65973f",
   "metadata": {},
   "outputs": [],
   "source": [
    "XTX = X.T.dot(X)  # This function computes the Gram matrix. X is a matrix of features and T is the transpose of X. The dot product computes the matrix multiplication.\n",
    "XTX_inv = np.linalg.inv(XTX) # This computes the inverse of the Gram matrix.\n",
    "w_full = XTX_inv.dot(X.T).dot(y) # This computes the weights for the linear regression model using the normal equation."
   ]
  },
  {
   "cell_type": "code",
   "execution_count": 40,
   "id": "35483eb7",
   "metadata": {},
   "outputs": [
    {
     "data": {
      "text/plain": [
       "(np.float64(26.08419497680291), array([286.12285934,   3.93813107]))"
      ]
     },
     "execution_count": 40,
     "metadata": {},
     "output_type": "execute_result"
    }
   ],
   "source": [
    "w0 = w_full[0]  # This is the intercept term.\n",
    "w = w_full[1:]  # This is the coefficient for the rest of features.\n",
    "w0, w"
   ]
  },
  {
   "cell_type": "code",
   "execution_count": 41,
   "id": "878178b4",
   "metadata": {},
   "outputs": [],
   "source": [
    "def train_linear_regression(X, y):\n",
    "    ones = np.ones(X.sahpe[0]) # Create a column of ones for the intercept term.\n",
    "    X = np.column_stack((ones, X))  # Stack the column of ones with the feature matrix.\n",
    "\n",
    "    XTX = X.T.dot(X)  # Compute the Gram matrix.\n",
    "    XTX_inv = np.linalg.inv(XTX)  # Compute the inverse of the Gram matrix.\n",
    "    w_full = XTX_inv.dot(X.T).dot(y)  # Compute the weights using the normal equation.\n",
    "    return w_full[0], w_full[1:]  # Return the intercept and the coefficients."
   ]
  },
  {
   "cell_type": "markdown",
   "id": "d51902f1",
   "metadata": {},
   "source": [
    "### Car price baseline model"
   ]
  },
  {
   "cell_type": "code",
   "execution_count": 43,
   "id": "2831839d",
   "metadata": {},
   "outputs": [
    {
     "data": {
      "application/vnd.microsoft.datawrangler.viewer.v0+json": {
       "columns": [
        {
         "name": "index",
         "rawType": "object",
         "type": "string"
        },
        {
         "name": "0",
         "rawType": "object",
         "type": "unknown"
        }
       ],
       "ref": "cce01e4f-a7ec-461a-ba48-06a100b439d6",
       "rows": [
        [
         "make",
         "object"
        ],
        [
         "model",
         "object"
        ],
        [
         "year",
         "int64"
        ],
        [
         "engine_fuel_type",
         "object"
        ],
        [
         "engine_hp",
         "float64"
        ],
        [
         "engine_cylinders",
         "float64"
        ],
        [
         "transmission_type",
         "object"
        ],
        [
         "driven_wheels",
         "object"
        ],
        [
         "number_of_doors",
         "float64"
        ],
        [
         "market_category",
         "object"
        ],
        [
         "vehicle_size",
         "object"
        ],
        [
         "vehicle_style",
         "object"
        ],
        [
         "highway_mpg",
         "int64"
        ],
        [
         "city_mpg",
         "int64"
        ],
        [
         "popularity",
         "int64"
        ]
       ],
       "shape": {
        "columns": 1,
        "rows": 15
       }
      },
      "text/plain": [
       "make                  object\n",
       "model                 object\n",
       "year                   int64\n",
       "engine_fuel_type      object\n",
       "engine_hp            float64\n",
       "engine_cylinders     float64\n",
       "transmission_type     object\n",
       "driven_wheels         object\n",
       "number_of_doors      float64\n",
       "market_category       object\n",
       "vehicle_size          object\n",
       "vehicle_style         object\n",
       "highway_mpg            int64\n",
       "city_mpg               int64\n",
       "popularity             int64\n",
       "dtype: object"
      ]
     },
     "execution_count": 43,
     "metadata": {},
     "output_type": "execute_result"
    }
   ],
   "source": [
    "cars_train.dtypes"
   ]
  }
 ],
 "metadata": {
  "kernelspec": {
   "display_name": "venv",
   "language": "python",
   "name": "python3"
  },
  "language_info": {
   "codemirror_mode": {
    "name": "ipython",
    "version": 3
   },
   "file_extension": ".py",
   "mimetype": "text/x-python",
   "name": "python",
   "nbconvert_exporter": "python",
   "pygments_lexer": "ipython3",
   "version": "3.12.1"
  }
 },
 "nbformat": 4,
 "nbformat_minor": 5
}
